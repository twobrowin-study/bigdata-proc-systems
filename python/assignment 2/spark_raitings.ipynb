{
 "cells": [
  {
   "cell_type": "markdown",
   "metadata": {},
   "source": [
    "# Разработка Spark приложения. Домашнее задание 2.\n",
    "Дубровин Е.Н. ИУ6-32М"
   ]
  },
  {
   "cell_type": "code",
   "execution_count": 1,
   "metadata": {},
   "outputs": [],
   "source": [
    "import pyspark\n",
    "from pyspark.sql import SparkSession\n",
    "import pyspark.sql.functions as F"
   ]
  },
  {
   "cell_type": "markdown",
   "metadata": {},
   "source": [
    "#### Подключение к исполнителю"
   ]
  },
  {
   "cell_type": "code",
   "execution_count": 2,
   "metadata": {},
   "outputs": [],
   "source": [
    "conf = pyspark.SparkConf() \\\n",
    "        .setAppName(\"Assignment2\") \\\n",
    "        .setMaster(\"spark://spark-master:7077\")\n",
    "\n",
    "spark = SparkSession.builder.config(conf=conf).getOrCreate()\n",
    "sc    = spark.sparkContext"
   ]
  },
  {
   "cell_type": "markdown",
   "metadata": {},
   "source": [
    "## Задача 1. Средний рейтинг\n",
    "Реализуйте подсчет среднего рейтинга продуктов. Результат сохранить в HDFS в файле \"avg_rating.csv\". Формат каждой записи: ProdId,Rating"
   ]
  },
  {
   "cell_type": "code",
   "execution_count": 3,
   "metadata": {},
   "outputs": [],
   "source": [
    "avg_input = \"hdfs://namenode:9000/reviews_Electronics_5.json\""
   ]
  },
  {
   "cell_type": "code",
   "execution_count": 4,
   "metadata": {},
   "outputs": [],
   "source": [
    "avg_output = \"hdfs://namenode:9000/avg_rating\""
   ]
  },
  {
   "cell_type": "code",
   "execution_count": 5,
   "metadata": {},
   "outputs": [],
   "source": [
    "avg_df = spark.read.load(path=avg_input, format=\"json\")"
   ]
  },
  {
   "cell_type": "code",
   "execution_count": 6,
   "metadata": {},
   "outputs": [],
   "source": [
    "avg_count_df = avg_df[[\"asin\", \"overall\"]]"
   ]
  },
  {
   "cell_type": "code",
   "execution_count": 7,
   "metadata": {},
   "outputs": [],
   "source": [
    "avg_result_df = avg_count_df.groupBy(\"asin\").avg()"
   ]
  },
  {
   "cell_type": "code",
   "execution_count": 8,
   "metadata": {},
   "outputs": [
    {
     "name": "stdout",
     "output_type": "stream",
     "text": [
      "+----------+-----------------+\n",
      "|      asin|     avg(overall)|\n",
      "+----------+-----------------+\n",
      "|B00000J3Q1|              4.0|\n",
      "|B00001W0DC|              4.2|\n",
      "|B00003OPEV|4.333333333333333|\n",
      "|B00005853W|              4.0|\n",
      "|B00005Q5U5|4.787878787878788|\n",
      "+----------+-----------------+\n",
      "only showing top 5 rows\n",
      "\n"
     ]
    }
   ],
   "source": [
    "avg_result_df.show(5)"
   ]
  },
  {
   "cell_type": "code",
   "execution_count": 9,
   "metadata": {},
   "outputs": [],
   "source": [
    "avg_result_df.write.csv(avg_output, header=True)"
   ]
  },
  {
   "cell_type": "markdown",
   "metadata": {},
   "source": [
    "## Задача 2. Добавление наименования продукта\n",
    "Напишите программу, которая каждому ProdId из \"avg_rating.csv\" ставит в соответстие названием продукта. Результат сохранить в HDFS в файле \"prodname_avg_rating.csv\": ProdId,Name,Rating"
   ]
  },
  {
   "cell_type": "code",
   "execution_count": 10,
   "metadata": {},
   "outputs": [],
   "source": [
    "prodname_input_avg = \"hdfs://namenode:9000/avg_rating\""
   ]
  },
  {
   "cell_type": "code",
   "execution_count": 11,
   "metadata": {},
   "outputs": [],
   "source": [
    "prodname_input_meta = \"hdfs://namenode:9000/meta_Electronics.json\""
   ]
  },
  {
   "cell_type": "code",
   "execution_count": 12,
   "metadata": {},
   "outputs": [],
   "source": [
    "prodname_output = \"hdfs://namenode:9000/prodname_avg_rating\""
   ]
  },
  {
   "cell_type": "code",
   "execution_count": 13,
   "metadata": {},
   "outputs": [],
   "source": [
    "prodname_avg_df = spark.read.load(path=prodname_input_avg, format=\"csv\", header=True)"
   ]
  },
  {
   "cell_type": "code",
   "execution_count": 14,
   "metadata": {},
   "outputs": [
    {
     "name": "stdout",
     "output_type": "stream",
     "text": [
      "+----------+------------------+\n",
      "|      asin|      avg(overall)|\n",
      "+----------+------------------+\n",
      "|B00000J1F3|               4.5|\n",
      "|B00000JCT8|3.6923076923076925|\n",
      "|B00004TDLD| 4.944444444444445|\n",
      "|B00004WLJ2| 4.304347826086956|\n",
      "|B00004Z6XS| 4.041666666666667|\n",
      "+----------+------------------+\n",
      "only showing top 5 rows\n",
      "\n"
     ]
    }
   ],
   "source": [
    "prodname_avg_df.show(5)"
   ]
  },
  {
   "cell_type": "code",
   "execution_count": 15,
   "metadata": {},
   "outputs": [],
   "source": [
    "prodname_meta_df = spark.read.load(path=prodname_input_meta, format=\"json\")"
   ]
  },
  {
   "cell_type": "code",
   "execution_count": 16,
   "metadata": {},
   "outputs": [],
   "source": [
    "prodname_meta_usefull_df = prodname_meta_df[[\"asin\", \"title\"]].dropna()"
   ]
  },
  {
   "cell_type": "code",
   "execution_count": 17,
   "metadata": {},
   "outputs": [
    {
     "name": "stdout",
     "output_type": "stream",
     "text": [
      "+----------+--------------------+\n",
      "|      asin|               title|\n",
      "+----------+--------------------+\n",
      "|0132793040|Kelby Training DV...|\n",
      "|0321732944|Kelby Training DV...|\n",
      "|0439886341|Digital Organizer...|\n",
      "|0558835155|Polaroid Pbm2200 ...|\n",
      "|0594012015|Barnes &amp; Nobl...|\n",
      "+----------+--------------------+\n",
      "only showing top 5 rows\n",
      "\n"
     ]
    }
   ],
   "source": [
    "prodname_meta_usefull_df.show(5)"
   ]
  },
  {
   "cell_type": "code",
   "execution_count": 18,
   "metadata": {},
   "outputs": [],
   "source": [
    "prodname_merged_df = prodname_meta_usefull_df.join(prodname_avg_df, on=\"asin\", how=\"inner\")"
   ]
  },
  {
   "cell_type": "code",
   "execution_count": 19,
   "metadata": {},
   "outputs": [
    {
     "name": "stdout",
     "output_type": "stream",
     "text": [
      "+----------+--------------------+------------------+\n",
      "|      asin|               title|      avg(overall)|\n",
      "+----------+--------------------+------------------+\n",
      "|0594451647|Barnes &amp; Nobl...|               4.2|\n",
      "|0594481813|Barnes &amp; Nobl...|               4.0|\n",
      "|1400532620|Barnes &amp; Nobl...|3.6097560975609757|\n",
      "|1400532736|Nook Simple Touch...| 3.230769230769231|\n",
      "|1400532655|Barnes &amp; Nobl...|3.8073394495412844|\n",
      "+----------+--------------------+------------------+\n",
      "only showing top 5 rows\n",
      "\n"
     ]
    }
   ],
   "source": [
    "prodname_merged_df.show(5)"
   ]
  },
  {
   "cell_type": "code",
   "execution_count": 20,
   "metadata": {},
   "outputs": [],
   "source": [
    "prodname_merged_df.write.csv(prodname_output, header=True)"
   ]
  },
  {
   "cell_type": "markdown",
   "metadata": {},
   "source": [
    "## Задача 3. Поиск среднего рейтинга по названию продукта\n",
    "Напишите программу, которая выводит средний рейтинги всех продуктов из \"prodname_avg_rating.csv\", в названии которых встречается введенное при запуске слово: ProdId,Name,Rating"
   ]
  },
  {
   "cell_type": "code",
   "execution_count": 21,
   "metadata": {},
   "outputs": [],
   "source": [
    "search_text = \"%adapter%\""
   ]
  },
  {
   "cell_type": "code",
   "execution_count": 22,
   "metadata": {},
   "outputs": [],
   "source": [
    "search_input = \"hdfs://namenode:9000/prodname_avg_rating\""
   ]
  },
  {
   "cell_type": "code",
   "execution_count": 23,
   "metadata": {},
   "outputs": [],
   "source": [
    "search_output = \"hdfs://namenode:9000/searched_avg_rating\""
   ]
  },
  {
   "cell_type": "code",
   "execution_count": 24,
   "metadata": {},
   "outputs": [],
   "source": [
    "search_df = spark.read.load(path=search_input, format=\"csv\", header=True)"
   ]
  },
  {
   "cell_type": "code",
   "execution_count": 25,
   "metadata": {},
   "outputs": [
    {
     "name": "stdout",
     "output_type": "stream",
     "text": [
      "+----------+--------------------+------------------+\n",
      "|      asin|               title|      avg(overall)|\n",
      "+----------+--------------------+------------------+\n",
      "|B0019H58GY|THREE BOTTLES - R...| 4.666666666666667|\n",
      "|B0019HGU0M|HP Pavilion TX251...|4.0588235294117645|\n",
      "|B0019HGTLC|Samsung Touch Of ...| 4.277777777777778|\n",
      "|B0019HDAP0|Samsung T200HD 20...|4.3478260869565215|\n",
      "|B0019HLE7Q|Kingwin USB 2.0 t...| 4.157894736842105|\n",
      "+----------+--------------------+------------------+\n",
      "only showing top 5 rows\n",
      "\n"
     ]
    }
   ],
   "source": [
    "search_df.show(5)"
   ]
  },
  {
   "cell_type": "code",
   "execution_count": 26,
   "metadata": {},
   "outputs": [],
   "source": [
    "search_result_df = search_df.filter(F.lower(F.col(\"title\")).like(search_text))"
   ]
  },
  {
   "cell_type": "code",
   "execution_count": 27,
   "metadata": {},
   "outputs": [
    {
     "name": "stdout",
     "output_type": "stream",
     "text": [
      "+----------+--------------------+------------------+\n",
      "|      asin|               title|      avg(overall)|\n",
      "+----------+--------------------+------------------+\n",
      "|B0019HLE7Q|Kingwin USB 2.0 t...| 4.157894736842105|\n",
      "|B0019SI266|2.4GHz Bluetooth ...|               3.6|\n",
      "|B0019RVX3Q|Xgear 3.5mm Headp...|3.5714285714285716|\n",
      "|B0019SVUQK|eForCity USB Soun...|            3.6875|\n",
      "|B0019SSSMY|EASYCAP USB 2.0 A...|2.8735632183908044|\n",
      "+----------+--------------------+------------------+\n",
      "only showing top 5 rows\n",
      "\n"
     ]
    }
   ],
   "source": [
    "search_result_df.show(5)"
   ]
  },
  {
   "cell_type": "code",
   "execution_count": 28,
   "metadata": {},
   "outputs": [],
   "source": [
    "search_result_df.write.csv(search_output, header=True)"
   ]
  }
 ],
 "metadata": {
  "kernelspec": {
   "display_name": "Python 3",
   "language": "python",
   "name": "python3"
  },
  "language_info": {
   "codemirror_mode": {
    "name": "ipython",
    "version": 3
   },
   "file_extension": ".py",
   "mimetype": "text/x-python",
   "name": "python",
   "nbconvert_exporter": "python",
   "pygments_lexer": "ipython3",
   "version": "3.7.9"
  }
 },
 "nbformat": 4,
 "nbformat_minor": 4
}
