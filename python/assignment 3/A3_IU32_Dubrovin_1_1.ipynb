{
 "cells": [
  {
   "cell_type": "markdown",
   "metadata": {},
   "source": [
    "<div style=\"font-size:18pt; padding-top:20px; text-align:center\">ЗАДАНИЕ 3. <b>Рекомендательные системы и </b> <span style=\"font-weight:bold; color:green\">Spark MLlib</span></div><hr>\n",
    "<div style=\"text-align:right;\">Папулин С.Ю. <span style=\"font-style: italic;font-weight: bold;\">(papulin_bmstu@mail.ru, papulin.ru_hse@mail.ru)</span></div>"
   ]
  },
  {
   "cell_type": "markdown",
   "metadata": {},
   "source": [
    "<a name=\"0\"></a>\n",
    "<div><span style=\"font-size:14pt; font-weight:bold\">Содержание</span>\n",
    "    <ol>\n",
    "        <li><a href=\"#1\">Варианты</a></li>\n",
    "        <li><a href=\"#2\">Задание</a></li>\n",
    "    </ol>\n",
    "</div>"
   ]
  },
  {
   "cell_type": "markdown",
   "metadata": {},
   "source": [
    "# 1. Вариант"
   ]
  },
  {
   "cell_type": "markdown",
   "metadata": {},
   "source": [
    "<p>Чтобы узнать свой вариант, введите Вашу фамилию в соответвующее поле ниже и запустите ячейку:</p>"
   ]
  },
  {
   "cell_type": "code",
   "execution_count": 1,
   "metadata": {},
   "outputs": [
    {
     "output_type": "stream",
     "name": "stdout",
     "text": [
      "Задача № 1:  1\nЗадача № 2:  1\n"
     ]
    }
   ],
   "source": [
    "surname = \"Дубровин\" #Ваша фамилия\n",
    "\n",
    "alp = 'абвгдеёжзийклмнопрстуфхцчшщъыьэюя'\n",
    "w = [1, 42, 21, 21, 34,  6, 44, 26, 18, 44, 38, 26, 14, 43,  4, 49, 45,\n",
    "        7, 42, 29,  4,  9, 36, 34, 31, 29,  5, 30,  4, 19, 28, 25, 33]\n",
    "\n",
    "d = dict(zip(alp, w))\n",
    "variant =  sum([d[el] for el in surname.lower()]) % 40 + 1\n",
    "\n",
    "print(\"Задача № 1: \", variant % 3 + 1)\n",
    "print(\"Задача № 2: \", variant % 2 + 1 )"
   ]
  },
  {
   "cell_type": "markdown",
   "metadata": {},
   "source": [
    "<div class=\"msg-block msg-warning\">\n",
    "  <p class=\"msg-text-warn\">Варианты могут не совпадать с прошлыми ДЗ</p>\n",
    "</div>"
   ]
  },
  {
   "cell_type": "markdown",
   "metadata": {},
   "source": [
    "<a name=\"2\"></a>\n",
    "<div style=\"display:table; width:100%; padding-top:10px; padding-bottom:10px; border-bottom:1px solid lightgrey\">\n",
    "    <div style=\"display:table-row\">\n",
    "        <div style=\"display:table-cell; width:80%; font-size:14pt; font-weight:bold\">2. Задание</div>\n",
    "    </div>\n",
    "</div>"
   ]
  },
  {
   "cell_type": "markdown",
   "metadata": {},
   "source": [
    "<p><b>Датасеты:</b></p>"
   ]
  },
  {
   "cell_type": "markdown",
   "metadata": {},
   "source": [
    "Небольшой набор данных: <a href=\"http://files.grouplens.org/datasets/movielens/ml-latest-small.zip\">http://files.grouplens.org/datasets/movielens/ml-latest-small.zip</a><br>\n",
    "Полный набор: <a href=\"http://files.grouplens.org/datasets/movielens/ml-latest.zip\">http://files.grouplens.org/datasets/movielens/ml-latest.zip</a>"
   ]
  },
  {
   "cell_type": "markdown",
   "metadata": {},
   "source": [
    "<div class=\"msg-block msg-warning\">\n",
    "  <div class=\"msg-text-warn\">\n",
    "      <p style=\"margin:0px\">1. Сначала выполните указанные ниже задачи для небольшого набора данных, потом для полного</p>\n",
    "      <p style=\"margin:0px\">2. Использовать Dataframe. Исключением может быть задача 2</p>\n",
    "  </div>\n",
    "</div>"
   ]
  },
  {
   "cell_type": "markdown",
   "metadata": {},
   "source": [
    "<p><b>Задача 1.</b> Анализ датасета <b><i>(2 балла)</i></b></p>"
   ]
  },
  {
   "cell_type": "markdown",
   "metadata": {},
   "source": [
    "<p><b style=\"color:green;\">Вариант 1.</b> Animation, Romance, Documentary</p>\n",
    "<p><b style=\"color:green;\">Вариант 2.</b> Drama, Comedy, Musical</p>\n",
    "<p><b style=\"color:green;\">Вариант 3.</b> Thriller, Sci-Fi, Adventure</p>"
   ]
  },
  {
   "cell_type": "markdown",
   "metadata": {},
   "source": [
    "<div class=\"msg-block msg-info\">\n",
    "  <p class=\"msg-text-info\">Один фильм может принадлежать разным жанрам</p>\n",
    "</div>"
   ]
  },
  {
   "cell_type": "markdown",
   "metadata": {},
   "source": [
    "### Подключение библиотек"
   ]
  },
  {
   "cell_type": "code",
   "execution_count": 2,
   "metadata": {},
   "outputs": [],
   "source": [
    "import pyspark\n",
    "from pyspark.sql import SparkSession, Row\n",
    "import pyspark.sql.functions as F\n",
    "from pyspark.sql.types import DoubleType, IntegerType\n",
    "from pyspark.ml.evaluation import RegressionEvaluator\n",
    "from pyspark.ml.recommendation import ALS\n",
    "from pyspark.ml.tuning import ParamGridBuilder, CrossValidator"
   ]
  },
  {
   "cell_type": "markdown",
   "metadata": {},
   "source": [
    "### Создание окружения"
   ]
  },
  {
   "cell_type": "code",
   "execution_count": 3,
   "metadata": {},
   "outputs": [],
   "source": [
    "import os\n",
    "import sys\n",
    "\n",
    "HOME = os.environ[\"HOME\"]\n",
    "os.environ[\"SPARK_HOME\"]=HOME+\"/Workfiles/Hadoop/spark\"\n",
    "os.environ[\"PYSPARK_PYTHON\"]=HOME+\"/.conda/2020.11/bin/python\"\n",
    "os.environ[\"PYSPARK_DRIVER_PYTHON\"]=HOME+\"/.conda/2020.11/bin/python\""
   ]
  },
  {
   "cell_type": "code",
   "execution_count": 4,
   "metadata": {},
   "outputs": [],
   "source": [
    "conf = pyspark.SparkConf() \\\n",
    "        .setAppName(\"Assignment3\") \\\n",
    "        .set(\"spark.executor.memory\", \"8G\") \\\n",
    "        .set(\"spark.driver.memory\", \"8G\") \\\n",
    "        .setMaster(\"local[4]\")\n",
    "\n",
    "spark = SparkSession.builder.config(conf=conf).getOrCreate()\n",
    "sc    = spark.sparkContext"
   ]
  },
  {
   "cell_type": "markdown",
   "metadata": {},
   "source": [
    "### Жанры по заданию"
   ]
  },
  {
   "cell_type": "code",
   "execution_count": 5,
   "metadata": {},
   "outputs": [],
   "source": [
    "task_genres = [\"Animation\", \"Romance\", \"Documentary\"]\n",
    "task_genres_df = spark.createDataFrame([Row(task_genres=task_genres)])"
   ]
  },
  {
   "cell_type": "markdown",
   "metadata": {},
   "source": [
    "<p>1. Выведите данные, сопоставляющие жанры и количество фильмов</p>"
   ]
  },
  {
   "cell_type": "markdown",
   "metadata": {},
   "source": [
    "##### Загрузка данных о фильмах"
   ]
  },
  {
   "cell_type": "code",
   "execution_count": 6,
   "metadata": {},
   "outputs": [],
   "source": [
    "movies_path = \"ml-latest-small/movies.csv\""
   ]
  },
  {
   "cell_type": "code",
   "execution_count": 7,
   "metadata": {},
   "outputs": [
    {
     "output_type": "stream",
     "name": "stdout",
     "text": [
      "+-------+--------------------+--------------------+\n|movieId|               title|              genres|\n+-------+--------------------+--------------------+\n|      1|    Toy Story (1995)|Adventure|Animati...|\n|      2|      Jumanji (1995)|Adventure|Childre...|\n|      3|Grumpier Old Men ...|      Comedy|Romance|\n|      4|Waiting to Exhale...|Comedy|Drama|Romance|\n|      5|Father of the Bri...|              Comedy|\n+-------+--------------------+--------------------+\nonly showing top 5 rows\n\n"
     ]
    }
   ],
   "source": [
    "movies_df = spark.read.load(path=movies_path, format=\"csv\", header=True)\n",
    "movies_df.show(5)"
   ]
  },
  {
   "cell_type": "markdown",
   "metadata": {},
   "source": [
    "##### Разбиение по жанрам"
   ]
  },
  {
   "cell_type": "code",
   "execution_count": 8,
   "metadata": {},
   "outputs": [
    {
     "output_type": "stream",
     "name": "stdout",
     "text": [
      "+-------+--------------------+---------+\n|movieId|               title|    genre|\n+-------+--------------------+---------+\n|      1|    Toy Story (1995)|Animation|\n|      3|Grumpier Old Men ...|  Romance|\n|      4|Waiting to Exhale...|  Romance|\n|      7|      Sabrina (1995)|  Romance|\n|     11|American Presiden...|  Romance|\n+-------+--------------------+---------+\nonly showing top 5 rows\n\n"
     ]
    }
   ],
   "source": [
    "movies_df_splited = movies_df \\\n",
    "    .withColumn(\"genres_split\", F.split(\"genres\", \"[|]\")) \\\n",
    "    .join(task_genres_df) \\\n",
    "    .withColumn(\"genres_intersect\", F.array_intersect(\"genres_split\", \"task_genres\")) \\\n",
    "    .select(\"movieId\", \"title\", F.explode(\"genres_intersect\").alias(\"genre\"))\n",
    "movies_df_splited.show(5)"
   ]
  },
  {
   "cell_type": "markdown",
   "metadata": {},
   "source": [
    "##### Аггрегация по жанрам"
   ]
  },
  {
   "cell_type": "code",
   "execution_count": 9,
   "metadata": {},
   "outputs": [
    {
     "output_type": "stream",
     "name": "stdout",
     "text": [
      "+-----------+-----+\n|      genre|count|\n+-----------+-----+\n|    Romance| 1596|\n|Documentary|  440|\n|  Animation|  611|\n+-----------+-----+\n\n"
     ]
    }
   ],
   "source": [
    "movies_df_splited \\\n",
    "    .groupBy(\"genre\") \\\n",
    "    .count() \\\n",
    "    .show(5)"
   ]
  },
  {
   "cell_type": "markdown",
   "metadata": {},
   "source": [
    "##### Загрузка рейтингов"
   ]
  },
  {
   "cell_type": "code",
   "execution_count": 10,
   "metadata": {},
   "outputs": [],
   "source": [
    "ratings_path = \"ml-latest-small/ratings.csv\""
   ]
  },
  {
   "cell_type": "code",
   "execution_count": 11,
   "metadata": {},
   "outputs": [
    {
     "output_type": "stream",
     "name": "stdout",
     "text": [
      "+------+-------+------+---------+\n|userId|movieId|rating|timestamp|\n+------+-------+------+---------+\n|     1|      1|   4.0|964982703|\n|     1|      3|   4.0|964981247|\n|     1|      6|   4.0|964982224|\n|     1|     47|   5.0|964983815|\n|     1|     50|   5.0|964982931|\n+------+-------+------+---------+\nonly showing top 5 rows\n\n"
     ]
    }
   ],
   "source": [
    "ratings_df = spark.read.load(path=ratings_path, format=\"csv\", header=True) \\\n",
    "    .withColumn(\"rating\", F.col(\"rating\").cast(DoubleType())) \\\n",
    "    .withColumn(\"userId\", F.col(\"userId\").cast(IntegerType())) \\\n",
    "    .withColumn(\"movieId\", F.col(\"movieId\").cast(IntegerType()))\n",
    "ratings_df.show(5)"
   ]
  },
  {
   "cell_type": "markdown",
   "metadata": {},
   "source": [
    "##### Слияние таблиц рейтингов и фильмов"
   ]
  },
  {
   "cell_type": "code",
   "execution_count": 12,
   "metadata": {},
   "outputs": [
    {
     "output_type": "stream",
     "name": "stdout",
     "text": [
      "+-------+------+------+----------+----------------+---------+\n|movieId|userId|rating| timestamp|           title|    genre|\n+-------+------+------+----------+----------------+---------+\n|      1|   610|   5.0|1479542900|Toy Story (1995)|Animation|\n|      1|   609|   3.0| 847221025|Toy Story (1995)|Animation|\n|      1|   608|   2.5|1117408267|Toy Story (1995)|Animation|\n|      1|   607|   4.0| 964744033|Toy Story (1995)|Animation|\n|      1|   606|   2.5|1349082950|Toy Story (1995)|Animation|\n+-------+------+------+----------+----------------+---------+\nonly showing top 5 rows\n\n"
     ]
    }
   ],
   "source": [
    "movies_ratings_df = ratings_df.join(movies_df_splited, on = \"movieId\")\n",
    "movies_ratings_df.show(5)"
   ]
  },
  {
   "cell_type": "markdown",
   "metadata": {},
   "source": [
    "##### Аггрегация по рейтингам и идентифкаторам фильмов"
   ]
  },
  {
   "cell_type": "code",
   "execution_count": 13,
   "metadata": {},
   "outputs": [
    {
     "output_type": "stream",
     "name": "stdout",
     "text": [
      "+-------+--------------------+---------+------------------+-----+\n|movieId|               title|    genre|        avg_rating|count|\n+-------+--------------------+---------+------------------+-----+\n|    302|Queen Margot (Rei...|  Romance|               3.2|    5|\n|    745|Wallace & Gromit:...|Animation|3.8958333333333335|   48|\n|   2020|Dangerous Liaison...|  Romance|               4.0|   25|\n|   2729|       Lolita (1962)|  Romance|               3.5|    7|\n|   4317|Love Potion #9 (1...|  Romance|               2.5|    3|\n+-------+--------------------+---------+------------------+-----+\nonly showing top 5 rows\n\n"
     ]
    }
   ],
   "source": [
    "movies_ratings_agg = movies_ratings_df \\\n",
    "    .groupBy(\"movieId\", \"title\", \"genre\") \\\n",
    "    .agg({\"rating\": \"avg\", \"movieId\": \"count\"}) \\\n",
    "    .withColumnRenamed(\"avg(rating)\", \"avg_rating\") \\\n",
    "    .withColumnRenamed(\"count(movieId)\", \"count\")\n",
    "movies_ratings_agg.show(5)"
   ]
  },
  {
   "cell_type": "markdown",
   "metadata": {},
   "source": [
    "<p>2. Выведите первые 10 фильмов с наибольшим количеством рейтингов для каждого жанра в соотвествии с вариантом</p>"
   ]
  },
  {
   "cell_type": "code",
   "execution_count": 14,
   "metadata": {},
   "outputs": [
    {
     "output_type": "stream",
     "name": "stdout",
     "text": [
      "Animation\n",
      "+--------------------+-----+\n",
      "|               title|count|\n",
      "+--------------------+-----+\n",
      "|    Toy Story (1995)|  215|\n",
      "|      Aladdin (1992)|  183|\n",
      "|Lion King, The (1...|  172|\n",
      "|        Shrek (2001)|  170|\n",
      "|Beauty and the Be...|  146|\n",
      "| Finding Nemo (2003)|  141|\n",
      "|Monsters, Inc. (2...|  132|\n",
      "|Incredibles, The ...|  125|\n",
      "|           Up (2009)|  105|\n",
      "|       WALL·E (2008)|  104|\n",
      "+--------------------+-----+\n",
      "\n",
      "Romance\n",
      "+--------------------+-----+\n",
      "|               title|count|\n",
      "+--------------------+-----+\n",
      "| Forrest Gump (1994)|  329|\n",
      "|American Beauty (...|  204|\n",
      "|    True Lies (1994)|  178|\n",
      "|        Speed (1994)|  171|\n",
      "|        Shrek (2001)|  170|\n",
      "|Beauty and the Be...|  146|\n",
      "|Groundhog Day (1993)|  143|\n",
      "|Princess Bride, T...|  142|\n",
      "|Good Will Hunting...|  141|\n",
      "|      Titanic (1997)|  140|\n",
      "+--------------------+-----+\n",
      "\n",
      "Documentary\n",
      "+--------------------+-----+\n",
      "|               title|count|\n",
      "+--------------------+-----+\n",
      "|Bowling for Colum...|   58|\n",
      "|Super Size Me (2004)|   50|\n",
      "|Fahrenheit 9/11 (...|   37|\n",
      "|   Roger & Me (1989)|   31|\n",
      "|  Hoop Dreams (1994)|   29|\n",
      "|March of the Peng...|   18|\n",
      "|Jackass: The Movi...|   17|\n",
      "|        Crumb (1994)|   17|\n",
      "|        Sicko (2007)|   14|\n",
      "|Inconvenient Trut...|   13|\n",
      "+--------------------+-----+\n",
      "\n"
     ]
    }
   ],
   "source": [
    "for genre in task_genres:\n",
    "    print(genre)\n",
    "    movies_ratings_agg \\\n",
    "    .filter(\"genre = '{}'\".format(genre)) \\\n",
    "    .select(\"title\", \"count\") \\\n",
    "    .orderBy(\"count\", ascending = False) \\\n",
    "    .limit(10) \\\n",
    "    .show()"
   ]
  },
  {
   "cell_type": "markdown",
   "metadata": {},
   "source": [
    "<p>3. Выведите первые 10 фильмов с наименьшим количеством рейтингов (но больше 10) для каждого жанра в соотвествии с вариантом</p>"
   ]
  },
  {
   "cell_type": "code",
   "execution_count": 15,
   "metadata": {},
   "outputs": [
    {
     "output_type": "stream",
     "name": "stdout",
     "text": [
      "Animation\n",
      "+--------------------+-----+\n",
      "|               title|count|\n",
      "+--------------------+-----+\n",
      "|Rescuers Down Und...|   10|\n",
      "|Girl Who Leapt Th...|   10|\n",
      "| Mary and Max (2009)|   10|\n",
      "|Futurama: Bender'...|   10|\n",
      "|American Tail: Fi...|   10|\n",
      "|Watership Down (1...|   10|\n",
      "|        Moana (2016)|   10|\n",
      "|Final Fantasy VII...|   10|\n",
      "|    Bee Movie (2007)|   10|\n",
      "|Polar Express, Th...|   11|\n",
      "+--------------------+-----+\n",
      "only showing top 10 rows\n",
      "\n",
      "Romance\n",
      "+--------------------+-----+\n",
      "|               title|count|\n",
      "+--------------------+-----+\n",
      "|Open Your Eyes (A...|   10|\n",
      "|        Focus (2015)|   10|\n",
      "|Sweetest Thing, T...|   10|\n",
      "|Nick and Norah's ...|   10|\n",
      "|Majestic, The (2001)|   10|\n",
      "|   Trainwreck (2015)|   10|\n",
      "|Beautiful Girls (...|   10|\n",
      "|Some Kind of Wond...|   10|\n",
      "|        Loser (2000)|   10|\n",
      "| One Fine Day (1996)|   10|\n",
      "+--------------------+-----+\n",
      "only showing top 10 rows\n",
      "\n",
      "Documentary\n",
      "+--------------------+-----+\n",
      "|               title|count|\n",
      "+--------------------+-----+\n",
      "|Corporation, The ...|   10|\n",
      "|Aristocrats, The ...|   10|\n",
      "|When We Were King...|   10|\n",
      "|Thin Blue Line, T...|   11|\n",
      "|Koyaanisqatsi (a....|   11|\n",
      "|   Inside Job (2010)|   12|\n",
      "|King of Kong, The...|   12|\n",
      "|   Spellbound (2002)|   13|\n",
      "|Exit Through the ...|   13|\n",
      "|Inconvenient Trut...|   13|\n",
      "+--------------------+-----+\n",
      "only showing top 10 rows\n",
      "\n"
     ]
    }
   ],
   "source": [
    "for genre in task_genres:\n",
    "    print(genre)\n",
    "    movies_ratings_agg \\\n",
    "    .filter(\"genre = '{}' and count >= 10\".format(genre)) \\\n",
    "    .select(\"title\", \"count\") \\\n",
    "    .orderBy(\"count\", ascending = True) \\\n",
    "    .show(10)"
   ]
  },
  {
   "cell_type": "markdown",
   "metadata": {},
   "source": [
    "<p>4. Выведите первые 10 фильмов с наибольшим средним рейтингом при количестве рейтингов больше 10 для каждого жанра в соотвествии с вариантом</p>"
   ]
  },
  {
   "cell_type": "code",
   "execution_count": 16,
   "metadata": {},
   "outputs": [
    {
     "output_type": "stream",
     "name": "stdout",
     "text": [
      "Animation\n",
      "+--------------------+-----+-----------------+\n",
      "|               title|count|       avg_rating|\n",
      "+--------------------+-----+-----------------+\n",
      "|Creature Comforts...|   12|             4.25|\n",
      "| Mary and Max (2009)|   10|              4.2|\n",
      "|   Persepolis (2007)|   11|4.181818181818182|\n",
      "|Grave of the Fire...|   16|          4.15625|\n",
      "|Spirited Away (Se...|   87|4.155172413793103|\n",
      "|Ghost in the Shel...|   27|4.148148148148148|\n",
      "|Batman: Mask of t...|   13|4.115384615384615|\n",
      "|  Toy Story 3 (2010)|   55|4.109090909090909|\n",
      "|Girl Who Leapt Th...|   10|              4.1|\n",
      "|Wallace & Gromit:...|   27|4.092592592592593|\n",
      "+--------------------+-----+-----------------+\n",
      "only showing top 10 rows\n",
      "\n",
      "Romance\n",
      "+--------------------+-----+------------------+\n",
      "|               title|count|        avg_rating|\n",
      "+--------------------+-----+------------------+\n",
      "|His Girl Friday (...|   14| 4.392857142857143|\n",
      "|Sunset Blvd. (a.k...|   27| 4.333333333333333|\n",
      "|It Happened One N...|   14| 4.321428571428571|\n",
      "|Philadelphia Stor...|   29| 4.310344827586207|\n",
      "|Harold and Maude ...|   26| 4.288461538461538|\n",
      "|    Notorious (1946)|   20|              4.25|\n",
      "|   Casablanca (1942)|  100|              4.24|\n",
      "|Princess Bride, T...|  142| 4.232394366197183|\n",
      "|   Persuasion (1995)|   11|4.2272727272727275|\n",
      "|To Catch a Thief ...|   23| 4.217391304347826|\n",
      "+--------------------+-----+------------------+\n",
      "only showing top 10 rows\n",
      "\n",
      "Documentary\n",
      "+--------------------+-----+------------------+\n",
      "|               title|count|        avg_rating|\n",
      "+--------------------+-----+------------------+\n",
      "|Fog of War: Eleve...|   13|4.3076923076923075|\n",
      "|  Hoop Dreams (1994)|   29| 4.293103448275862|\n",
      "|   Inside Job (2010)|   12| 4.291666666666667|\n",
      "|        Crumb (1994)|   17| 4.205882352941177|\n",
      "|Exit Through the ...|   13| 4.038461538461538|\n",
      "|Thin Blue Line, T...|   11|               4.0|\n",
      "|   Spellbound (2002)|   13| 3.923076923076923|\n",
      "|King of Kong, The...|   12|3.9166666666666665|\n",
      "|When We Were King...|   10|               3.9|\n",
      "|Corporation, The ...|   10|               3.9|\n",
      "+--------------------+-----+------------------+\n",
      "only showing top 10 rows\n",
      "\n"
     ]
    }
   ],
   "source": [
    "for genre in task_genres:\n",
    "    print(genre)\n",
    "    movies_ratings_agg \\\n",
    "    .filter(\"genre = '{}' and count >= 10\".format(genre)) \\\n",
    "    .select(\"title\", \"count\", \"avg_rating\") \\\n",
    "    .orderBy(\"avg_rating\", ascending = False) \\\n",
    "    .show(10)"
   ]
  },
  {
   "cell_type": "markdown",
   "metadata": {},
   "source": [
    "<p>5. Выведите первые 10 фильмов с наименьшим средним рейтингом при количестве рейтингов больше 10 для каждого жанра в соотвествии с вариантом</p>"
   ]
  },
  {
   "cell_type": "code",
   "execution_count": 17,
   "metadata": {},
   "outputs": [
    {
     "output_type": "stream",
     "name": "stdout",
     "text": [
      "Animation\n",
      "+--------------------+-----+------------------+\n",
      "|               title|count|        avg_rating|\n",
      "+--------------------+-----+------------------+\n",
      "|   Shark Tale (2004)|   13|2.3461538461538463|\n",
      "|Ice Age: Dawn of ...|   14| 2.607142857142857|\n",
      "|   Happy Feet (2006)|   11|2.6818181818181817|\n",
      "|American Tail: Fi...|   10|               2.7|\n",
      "|All Dogs Go to He...|   15|               2.7|\n",
      "|    Space Jam (1996)|   53| 2.707547169811321|\n",
      "|Pete's Dragon (1977)|   15|2.7666666666666666|\n",
      "|Small Soldiers (1...|   18|2.8333333333333335|\n",
      "|Beavis and Butt-H...|   31| 2.935483870967742|\n",
      "|Goofy Movie, A (1...|   17|               3.0|\n",
      "+--------------------+-----+------------------+\n",
      "only showing top 10 rows\n",
      "\n",
      "Romance\n",
      "+--------------------+-----+------------------+\n",
      "|               title|count|        avg_rating|\n",
      "+--------------------+-----+------------------+\n",
      "|Speed 2: Cruise C...|   19| 1.605263157894737|\n",
      "|     Grease 2 (1982)|   19|2.0789473684210527|\n",
      "|Heartbreakers (2001)|   10|              2.15|\n",
      "|    Bewitched (2005)|   13| 2.269230769230769|\n",
      "|American Werewolf...|   10|               2.3|\n",
      "|Next Karate Kid, ...|   15|2.3666666666666667|\n",
      "|     Joe Dirt (2001)|   21| 2.380952380952381|\n",
      "|Look Who's Talkin...|   18| 2.388888888888889|\n",
      "|     Twilight (2008)|   22| 2.409090909090909|\n",
      "|Sex and the City ...|   11| 2.409090909090909|\n",
      "+--------------------+-----+------------------+\n",
      "only showing top 10 rows\n",
      "\n",
      "Documentary\n",
      "+--------------------+-----+------------------+\n",
      "|               title|count|        avg_rating|\n",
      "+--------------------+-----+------------------+\n",
      "|Aristocrats, The ...|   10|              3.35|\n",
      "|Fahrenheit 9/11 (...|   37|3.4864864864864864|\n",
      "|Jackass: The Movi...|   17|               3.5|\n",
      "|Super Size Me (2004)|   50|              3.51|\n",
      "|March of the Peng...|   18|3.5555555555555554|\n",
      "|Inconvenient Trut...|   13| 3.576923076923077|\n",
      "|        Sicko (2007)|   14|3.7142857142857144|\n",
      "|Bowling for Colum...|   58|3.7758620689655173|\n",
      "|   Roger & Me (1989)|   31| 3.838709677419355|\n",
      "|Koyaanisqatsi (a....|   11|3.8636363636363638|\n",
      "+--------------------+-----+------------------+\n",
      "only showing top 10 rows\n",
      "\n"
     ]
    }
   ],
   "source": [
    "for genre in task_genres:\n",
    "    print(genre)\n",
    "    movies_ratings_agg \\\n",
    "    .filter(\"genre = '{}' and count >= 10\".format(genre)) \\\n",
    "    .select(\"title\", \"count\", \"avg_rating\") \\\n",
    "    .orderBy(\"avg_rating\", ascending = True) \\\n",
    "    .show(10)"
   ]
  },
  {
   "cell_type": "markdown",
   "metadata": {},
   "source": [
    "<p><b>Задача 2.</b> Коллаборативная фильтрация <b><i>(5 баллов)</i></b></p>"
   ]
  },
  {
   "cell_type": "markdown",
   "metadata": {},
   "source": [
    "<p><b style=\"color:green;\">Вариант 1.</b> По схожести пользователей</p>\n",
    "<p><b style=\"color:green;\">Вариант 2.</b> По схожести объектов</p>"
   ]
  },
  {
   "cell_type": "markdown",
   "metadata": {},
   "source": [
    "<p>6. Разделите данные с рейтингами на обучающее (train_init - 0.8) и тестовое подмножества (test - 0.2), определите среднее значение рейтинга в обучающем подмножестве и вычислите rmse для тестового подмножества, если для всех значений из test предсказывается среднее значение рейтинга</p>"
   ]
  },
  {
   "cell_type": "markdown",
   "metadata": {},
   "source": [
    "##### Выбор только нужных данных"
   ]
  },
  {
   "cell_type": "code",
   "execution_count": 18,
   "metadata": {},
   "outputs": [
    {
     "output_type": "stream",
     "name": "stdout",
     "text": [
      "+------+-------+------+\n|userId|movieId|rating|\n+------+-------+------+\n|   474|      1|   4.0|\n|   458|     48|   3.0|\n|    84|    140|   4.0|\n|   160|    239|   1.0|\n|   217|    351|   2.0|\n+------+-------+------+\nonly showing top 5 rows\n\n"
     ]
    }
   ],
   "source": [
    "df_features = movies_ratings_df.select(\"userId\", \"movieId\", \"rating\").distinct()\n",
    "df_features.show(5)"
   ]
  },
  {
   "cell_type": "markdown",
   "metadata": {},
   "source": [
    "##### Разделение"
   ]
  },
  {
   "cell_type": "code",
   "execution_count": 19,
   "metadata": {},
   "outputs": [
    {
     "output_type": "execute_result",
     "data": {
      "text/plain": [
       "(20104, 5071)"
      ]
     },
     "metadata": {},
     "execution_count": 19
    }
   ],
   "source": [
    "df_train, df_test_init = df_features.randomSplit([0.8, 0.2], seed=123)\n",
    "df_train.count(), df_test_init.count()"
   ]
  },
  {
   "cell_type": "code",
   "execution_count": 20,
   "metadata": {},
   "outputs": [
    {
     "output_type": "stream",
     "name": "stdout",
     "text": [
      "+------+-------+------+\n|userId|movieId|rating|\n+------+-------+------+\n|     3|   2080|   0.5|\n|     4|    708|   4.0|\n|    11|   1784|   5.0|\n|    12|   1721|   5.0|\n|    18|   7147|   4.5|\n+------+-------+------+\nonly showing top 5 rows\n\n"
     ]
    }
   ],
   "source": [
    "df_train.show(5)"
   ]
  },
  {
   "cell_type": "markdown",
   "metadata": {},
   "source": [
    "<div class=\"msg-block msg-warning\">\n",
    "  <p><b>К 3 задаче</b></p>\n",
    "  <p class=\"msg-text-warn\">Если какие-то элементы из тестового/валидационного подмножества не встречались в обучающем, то rmse будет NaN. Поэтому заранее уберите из тестового/валидационного подмножества такие элементы</p>\n",
    "</div>"
   ]
  },
  {
   "cell_type": "code",
   "execution_count": 21,
   "metadata": {},
   "outputs": [
    {
     "output_type": "execute_result",
     "data": {
      "text/plain": [
       "(229, 4842)"
      ]
     },
     "metadata": {},
     "execution_count": 21
    }
   ],
   "source": [
    "df_except = df_test_init.join(df_train, on = \"movieId\", how = \"left_anti\")\n",
    "df_test = df_test_init.exceptAll(df_except.select(\"userId\", \"movieId\", \"rating\"))\n",
    "df_except.count(), df_test.count()"
   ]
  },
  {
   "cell_type": "code",
   "execution_count": 22,
   "metadata": {},
   "outputs": [
    {
     "output_type": "execute_result",
     "data": {
      "text/plain": [
       "(20104, 4842)"
      ]
     },
     "metadata": {},
     "execution_count": 22
    }
   ],
   "source": [
    "df_train.persist().count(), df_test.persist().count()"
   ]
  },
  {
   "cell_type": "markdown",
   "metadata": {},
   "source": [
    "##### Средний рейтинг"
   ]
  },
  {
   "cell_type": "code",
   "execution_count": 23,
   "metadata": {},
   "outputs": [
    {
     "output_type": "stream",
     "name": "stdout",
     "text": [
      "+------------------+\n|        prediction|\n+------------------+\n|3.5455879426979706|\n+------------------+\n\n"
     ]
    }
   ],
   "source": [
    "mean_rating_df = df_train.select(F.mean(\"rating\").alias(\"prediction\"))\n",
    "mean_rating_df.show()"
   ]
  },
  {
   "cell_type": "markdown",
   "metadata": {},
   "source": [
    "##### Тестирование"
   ]
  },
  {
   "cell_type": "code",
   "execution_count": 24,
   "metadata": {},
   "outputs": [
    {
     "output_type": "stream",
     "name": "stdout",
     "text": [
      "+------+-------+------+------------------+\n|userId|movieId|rating|        prediction|\n+------+-------+------+------------------+\n|    10|   8961|   2.5|3.5455879426979706|\n|    19|    745|   4.0|3.5455879426979706|\n|    41| 100714|   1.5|3.5455879426979706|\n|    51|   2802|   3.0|3.5455879426979706|\n|    68|  34162|   5.0|3.5455879426979706|\n+------+-------+------+------------------+\nonly showing top 5 rows\n\n"
     ]
    }
   ],
   "source": [
    "df_test_pred_bl = df_test.join(mean_rating_df)\n",
    "df_test_pred_bl.show(5)"
   ]
  },
  {
   "cell_type": "markdown",
   "metadata": {},
   "source": [
    "##### Расчёт СКО"
   ]
  },
  {
   "cell_type": "code",
   "execution_count": 25,
   "metadata": {},
   "outputs": [
    {
     "output_type": "execute_result",
     "data": {
      "text/plain": [
       "0.9987840844118598"
      ]
     },
     "metadata": {},
     "execution_count": 25
    }
   ],
   "source": [
    "eval_rmse = RegressionEvaluator(metricName=\"rmse\", labelCol=\"rating\", predictionCol=\"prediction\")\n",
    "eval_rmse.evaluate(df_test_pred_bl)"
   ]
  },
  {
   "cell_type": "markdown",
   "metadata": {},
   "source": [
    "<p>7. Реализуйте коллаборативную фильтрацию в соотвествии с вариантом. Для определения схожести используйте train_init, для расчета rmse - test</p>"
   ]
  },
  {
   "cell_type": "code",
   "execution_count": 26,
   "metadata": {},
   "outputs": [],
   "source": [
    "from userrecom import UserBasedRecommend"
   ]
  },
  {
   "cell_type": "code",
   "execution_count": 27,
   "metadata": {},
   "outputs": [],
   "source": [
    "%load_ext autoreload\n",
    "%autoreload 2"
   ]
  },
  {
   "cell_type": "code",
   "execution_count": 28,
   "metadata": {},
   "outputs": [],
   "source": [
    "user_based = UserBasedRecommend(spark)"
   ]
  },
  {
   "cell_type": "markdown",
   "metadata": {},
   "source": [
    "##### Обучение"
   ]
  },
  {
   "cell_type": "code",
   "execution_count": 59,
   "metadata": {
    "tags": []
   },
   "outputs": [],
   "source": [
    "user_based.train(df_train, top_N=120, user_column_name=\"userId\", item_column_name=\"movieId\")"
   ]
  },
  {
   "cell_type": "markdown",
   "metadata": {},
   "source": [
    "##### Получение оценок рейтингов на тестовом подмножестве"
   ]
  },
  {
   "cell_type": "code",
   "execution_count": 60,
   "metadata": {
    "tags": []
   },
   "outputs": [
    {
     "output_type": "stream",
     "name": "stdout",
     "text": [
      "+------+-------+------+------------------+\n|userId|movieId|rating|        prediction|\n+------+-------+------+------------------+\n|    62|   8360|   1.0| 3.607201598494729|\n|   232|    594|   2.5|3.4429862798649795|\n|   232|   1029|   2.0|3.3663973768140205|\n|   438|   5218|   4.5|3.6701628472689065|\n|   543|   2858|   5.0|3.9075017898448965|\n+------+-------+------+------------------+\nonly showing top 5 rows\n\n"
     ]
    }
   ],
   "source": [
    "df_predict_ub = user_based.predict(df_test, user_column_name=\"userId\", item_column_name=\"movieId\",\n",
    "                                    predict_column_name = \"prediction\")\n",
    "df_predict_ub.show(5)"
   ]
  },
  {
   "cell_type": "markdown",
   "metadata": {},
   "source": [
    "<p>8. Определите rmse для тестового подмножества</p>"
   ]
  },
  {
   "cell_type": "code",
   "execution_count": 31,
   "metadata": {},
   "outputs": [
    {
     "output_type": "execute_result",
     "data": {
      "text/plain": [
       "0.9597141022611608"
      ]
     },
     "metadata": {},
     "execution_count": 31
    }
   ],
   "source": [
    "eval_rmse.evaluate(df_predict_ub)"
   ]
  },
  {
   "cell_type": "markdown",
   "metadata": {},
   "source": [
    "<p><b>Задача 3.</b> Факторизация матрицы <b><i>(3 балла)</i></b></p>"
   ]
  },
  {
   "cell_type": "markdown",
   "metadata": {},
   "source": [
    "<p>9. Выберите модель ALS по минимальному значению rmse. Для этого используйте kfolds c k=4</p>"
   ]
  },
  {
   "cell_type": "markdown",
   "metadata": {},
   "source": [
    "##### Параметры"
   ]
  },
  {
   "cell_type": "code",
   "execution_count": 32,
   "metadata": {},
   "outputs": [],
   "source": [
    "rank = [5, 10, 15] # количество факторов\n",
    "regParam = [0.001, 0.01, 0.1, 1, 10] # регуляризация"
   ]
  },
  {
   "cell_type": "markdown",
   "metadata": {},
   "source": [
    "##### Исходный ALS"
   ]
  },
  {
   "cell_type": "code",
   "execution_count": 50,
   "metadata": {},
   "outputs": [],
   "source": [
    "als_inst = ALS(maxIter=10, seed=123, \n",
    "               numUserBlocks=10, numItemBlocks=10, \n",
    "               userCol=\"userId\", itemCol=\"movieId\", ratingCol=\"rating\",\n",
    "               nonnegative=True, coldStartStrategy='drop')"
   ]
  },
  {
   "cell_type": "markdown",
   "metadata": {},
   "source": [
    "##### Сетка параметров"
   ]
  },
  {
   "cell_type": "code",
   "execution_count": 51,
   "metadata": {},
   "outputs": [],
   "source": [
    "grid = ParamGridBuilder() \\\n",
    "    .addGrid(als_inst.rank, rank) \\\n",
    "    .addGrid(als_inst.regParam, regParam) \\\n",
    "    .build()"
   ]
  },
  {
   "cell_type": "markdown",
   "metadata": {},
   "source": [
    "##### Кросс-валидатор"
   ]
  },
  {
   "cell_type": "code",
   "execution_count": 52,
   "metadata": {},
   "outputs": [],
   "source": [
    "cv = CrossValidator(estimator=als_inst, estimatorParamMaps=grid, evaluator=eval_rmse, parallelism=4, numFolds=4)"
   ]
  },
  {
   "cell_type": "markdown",
   "metadata": {},
   "source": [
    "##### Обучение моделей"
   ]
  },
  {
   "cell_type": "code",
   "execution_count": 53,
   "metadata": {},
   "outputs": [
    {
     "output_type": "execute_result",
     "data": {
      "text/plain": [
       "4"
      ]
     },
     "metadata": {},
     "execution_count": 53
    }
   ],
   "source": [
    "cvModel = cv.fit(df_test)\n",
    "cvModel.getNumFolds()"
   ]
  },
  {
   "cell_type": "code",
   "execution_count": 54,
   "metadata": {},
   "outputs": [
    {
     "output_type": "execute_result",
     "data": {
      "text/plain": [
       "[3.4294003305623586,\n",
       " 1.6908769619399466,\n",
       " 1.171729262704551,\n",
       " 1.3659312834004116,\n",
       " 3.7127695589133287,\n",
       " 3.0333431612161403,\n",
       " 1.5595790966542287,\n",
       " 1.1450811190924681,\n",
       " 1.3661074762713703,\n",
       " 3.7127695589133287,\n",
       " 2.1937214305280532,\n",
       " 1.491242576773981,\n",
       " 1.1490014755530717,\n",
       " 1.3668735002433503,\n",
       " 3.7127695589133287]"
      ]
     },
     "metadata": {},
     "execution_count": 54
    }
   ],
   "source": [
    "cvModel.avgMetrics"
   ]
  },
  {
   "cell_type": "markdown",
   "metadata": {},
   "source": [
    "##### Результаты на учебном множестве"
   ]
  },
  {
   "cell_type": "code",
   "execution_count": 55,
   "metadata": {},
   "outputs": [
    {
     "output_type": "stream",
     "name": "stdout",
     "text": [
      "+------+-------+------+----------+\n|userId|movieId|rating|prediction|\n+------+-------+------+----------+\n|   463|   1088|   3.5| 2.6854527|\n|   159|   1088|   4.0| 2.8485475|\n|   606|   1088|   3.0| 2.3215234|\n|   599|   1088|   2.5| 1.6096076|\n|   111|   1088|   3.0| 2.5691488|\n+------+-------+------+----------+\nonly showing top 5 rows\n\n"
     ]
    }
   ],
   "source": [
    "df_train_pred = cvModel.transform(df_train)\n",
    "df_train_pred.show(5)"
   ]
  },
  {
   "cell_type": "markdown",
   "metadata": {},
   "source": [
    "##### Резульаты на тестовом множестве"
   ]
  },
  {
   "cell_type": "code",
   "execution_count": 56,
   "metadata": {},
   "outputs": [
    {
     "output_type": "stream",
     "name": "stdout",
     "text": [
      "+------+-------+------+----------+\n|userId|movieId|rating|prediction|\n+------+-------+------+----------+\n|    47|   1088|   4.0|  3.706408|\n|   474|   1088|   3.5| 3.2594187|\n|   387|   1088|   1.5| 1.8490163|\n|   555|   1088|   4.0| 3.8986096|\n|   391|   1088|   1.0| 1.4290633|\n+------+-------+------+----------+\nonly showing top 5 rows\n\n"
     ]
    }
   ],
   "source": [
    "df_predict_asl = cvModel.transform(df_test)\n",
    "df_predict_asl.show(5)"
   ]
  },
  {
   "cell_type": "markdown",
   "metadata": {},
   "source": [
    "<p>10. Сравните результаты рекомендаций посредством коллаборативной фильтрации и факторизации матрицы рейтингов</p>"
   ]
  },
  {
   "cell_type": "code",
   "execution_count": 57,
   "metadata": {},
   "outputs": [
    {
     "output_type": "stream",
     "name": "stdout",
     "text": [
      "СКО рекомендаций User-based коллаборативной фильтрации 0.9597141022611608\n",
      "СКО рекомендаций ASL 0.2331968100133474\n"
     ]
    }
   ],
   "source": [
    "print( \"СКО рекомендаций User-based коллаборативной фильтрации {}\".format(eval_rmse.evaluate(df_predict_ub)) )\n",
    "print( \"СКО рекомендаций ASL {}\".format(eval_rmse.evaluate(df_predict_asl)) )"
   ]
  },
  {
   "cell_type": "markdown",
   "metadata": {},
   "source": [
    "##### Сравнение резульатов"
   ]
  },
  {
   "cell_type": "code",
   "execution_count": 58,
   "metadata": {},
   "outputs": [
    {
     "output_type": "stream",
     "name": "stdout",
     "text": [
      "+------+-------+------+------------------+---------+\n|userId|movieId|rating|   pred User-based| pred ASL|\n+------+-------+------+------------------+---------+\n|    47|   1088|   4.0|3.4395312311976913| 3.706408|\n|   474|   1088|   3.5|  3.36604112408064|3.2594187|\n|   387|   1088|   1.5|3.3101509218038907|1.8490163|\n|   555|   1088|   4.0|3.3800596108951666|3.8986096|\n|   391|   1088|   1.0|3.3689896085427677|1.4290633|\n|   525|   1088|   4.5|3.3844602577946983|3.8024056|\n|    42|   1088|   3.0| 3.396628493509407| 3.201251|\n|   597|   1959|   4.0| 3.507404759419041|3.9291136|\n|   474|   1959|   4.0| 3.522995588492769|  3.79866|\n|   138|   1959|   3.5| 3.538793310540483|3.5843968|\n|   414|   4519|   2.0|3.3635581164624786| 1.967437|\n|   345|   6658|   4.5|2.5529889900993217|4.4154477|\n|   474|   8638|   4.0| 3.743872022342787|3.8528438|\n|   221|   8638|   4.5|3.7129950258827256| 4.209505|\n|   200|   8638|   1.0|3.8213551047292325| 1.297141|\n|   388|  44022|   4.5|3.3136061046833607|4.3367844|\n|   480|  44022|   3.0|3.1724737816056487| 2.962125|\n|    21|  44022|   3.5| 3.170717569781336|3.5043573|\n|   111|  54190|   4.0| 4.052359001933177|3.8356898|\n|   274|  54190|   4.0| 4.030954601341098|3.8121033|\n+------+-------+------+------------------+---------+\nonly showing top 20 rows\n\n"
     ]
    }
   ],
   "source": [
    "main_clmns = [\"userId\", \"movieId\", \"rating\"]\n",
    "ub_clmns = main_clmns + [F.col(\"prediction\").alias(\"pred User-based\")]\n",
    "asl_clmns = main_clmns + [F.col(\"prediction\").alias(\"pred ASL\")]\n",
    "\n",
    "df_predict_ub.select(ub_clmns) \\\n",
    ".join(df_predict_asl.select(asl_clmns), on = main_clmns) \\\n",
    ".show()"
   ]
  },
  {
   "cell_type": "markdown",
   "metadata": {},
   "source": [
    "<hr>\n",
    "<div style=\"width:100%;\"><p style=\"width:100%; text-align:center; font-weight:bold; font-size:18px;\">FINLAND</p></div>"
   ]
  }
 ],
 "metadata": {
  "kernelspec": {
   "display_name": "Python 3",
   "language": "python",
   "name": "python3"
  },
  "language_info": {
   "codemirror_mode": {
    "name": "ipython",
    "version": 3
   },
   "file_extension": ".py",
   "mimetype": "text/x-python",
   "name": "python",
   "nbconvert_exporter": "python",
   "pygments_lexer": "ipython3",
   "version": "3.8.5-final"
  }
 },
 "nbformat": 4,
 "nbformat_minor": 2
}