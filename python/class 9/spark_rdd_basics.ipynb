{
 "cells": [
  {
   "cell_type": "markdown",
   "metadata": {},
   "source": [
    "<div style=\"font-size:18pt; padding-top:20px; text-align:center\"><b>Operations on <span style=\"font-weight:bold; color:green\">Spark RDD</span> using Python</b></div><hr>\n",
    "<div style=\"text-align:right;\">Sergei Yu. Papulin <span style=\"font-style: italic;font-weight: bold;\">(papulin_bmstu@mail.ru)</span></div>"
   ]
  },
  {
   "cell_type": "markdown",
   "metadata": {},
   "source": [
    "<a name=\"0\"></a>\n",
    "<div><span style=\"font-size:14pt; font-weight:bold\">Content</span>\n",
    "    <ol>\n",
    "        <li><a href=\"#1\">Distributed dataset</a>\n",
    "            <ol style = \"list-style-type:lower-alpha\">\n",
    "                <li><a href=\"#1a\">Transformations</a></li>\n",
    "                <li><a href=\"#1b\">Actions</a></li>\n",
    "            </ol>\n",
    "        </li>\n",
    "        <li><a href=\"#2\">Distributed dataset of (K, V) pairs</a>\n",
    "            <ol style = \"list-style-type:lower-alpha\">\n",
    "                <li><a href=\"#2a\">Transformations</a></li>\n",
    "                <li><a href=\"#2b\">Actions</a></li>\n",
    "            </ol>\n",
    "        </li>\n",
    "        <li><a href=\"#3\">Examples</a></li>\n",
    "        <li><a href=\"#4\">References</a></li>\n",
    "    </ol>\n",
    "</div>"
   ]
  },
  {
   "cell_type": "code",
   "execution_count": 1,
   "metadata": {},
   "outputs": [],
   "source": [
    "import pyspark"
   ]
  },
  {
   "cell_type": "markdown",
   "metadata": {},
   "source": [
    "<p>Run Spark Context</p>"
   ]
  },
  {
   "cell_type": "code",
   "execution_count": 2,
   "metadata": {},
   "outputs": [],
   "source": [
    "# import pyspark\n",
    "\n",
    "conf = pyspark.SparkConf() \\\n",
    "        .setAppName(\"basicOperationsRDDApp\") \\\n",
    "        .setMaster(\"spark://spark-master:7077\")\n",
    "\n",
    "sc = pyspark.SparkContext.getOrCreate(conf = conf)"
   ]
  },
  {
   "cell_type": "markdown",
   "metadata": {},
   "source": [
    "<a name=\"1\"></a>\n",
    "<div style=\"display:table; width:100%; padding-top:10px; padding-bottom:10px; border-bottom:1px solid lightgrey\">\n",
    "    <div style=\"display:table-row\">\n",
    "        <div style=\"display:table-cell; width:80%; font-size:14pt; font-weight:bold\">1. Distributed dataset</div>\n",
    "    \t<div style=\"display:table-cell; width:20%; text-align:center; background-color:whitesmoke; border:1px solid lightgrey\"><a href=\"#0\">To Content</a></div>\n",
    "    </div>\n",
    "</div>"
   ]
  },
  {
   "cell_type": "markdown",
   "metadata": {},
   "source": [
    "<a name=\"1a\"></a>\n",
    "<div style=\"display:table; width:100%\">\n",
    "    <div style=\"display:table-row\">\n",
    "        <div style=\"display:table-cell; width:80%; font-style:italic; font-weight:bold; font-size:12pt\">\n",
    "            a. Transformations\n",
    "        </div>\n",
    "        <div style=\"display:table-cell; border:1px solid lightgrey; width:20%\">\n",
    "            <div style=\"display:table-cell; width:10%; text-align:center; background-color:whitesmoke;\">\n",
    "                <a href=\"#1\">Back</a>\n",
    "            </div>\n",
    "            <div style=\"display:table-cell; width:10%; text-align:center;\">\n",
    "                <a href=\"#1b\">Next</a>\n",
    "            </div>\n",
    "        </div>\n",
    "    </div>\n",
    "</div>"
   ]
  },
  {
   "cell_type": "markdown",
   "metadata": {},
   "source": [
    "<p>Create <b><i>RDD</i></b> from an initial list of numbers и print it using the <b><i>collect</i></b> action</p>"
   ]
  },
  {
   "cell_type": "code",
   "execution_count": 3,
   "metadata": {},
   "outputs": [],
   "source": [
    "# Initial list\n",
    "data = [1, 2, 3, 4, 5]"
   ]
  },
  {
   "cell_type": "code",
   "execution_count": 4,
   "metadata": {},
   "outputs": [
    {
     "data": {
      "text/plain": [
       "ParallelCollectionRDD[0] at readRDDFromFile at PythonRDD.scala:262"
      ]
     },
     "execution_count": 4,
     "metadata": {},
     "output_type": "execute_result"
    }
   ],
   "source": [
    "# Create RDD - distributed data\n",
    "data_rdd = sc.parallelize(data)\n",
    "data_rdd"
   ]
  },
  {
   "cell_type": "code",
   "execution_count": 5,
   "metadata": {},
   "outputs": [
    {
     "data": {
      "text/plain": [
       "[1, 2, 3, 4, 5]"
      ]
     },
     "execution_count": 5,
     "metadata": {},
     "output_type": "execute_result"
    }
   ],
   "source": [
    "# Collect all RDD data on the Spark driver\n",
    "data_rdd.collect()"
   ]
  },
  {
   "cell_type": "markdown",
   "metadata": {},
   "source": [
    "<p>Create <b><i>RDD</i></b> from a text file and print it using <b><i>take</i></b> action</p>"
   ]
  },
  {
   "cell_type": "code",
   "execution_count": 6,
   "metadata": {},
   "outputs": [],
   "source": [
    "# Path to a file in HDFS\n",
    "file_path = \"hdfs://namenode:9000/samples_100.json\""
   ]
  },
  {
   "cell_type": "code",
   "execution_count": 7,
   "metadata": {},
   "outputs": [
    {
     "data": {
      "text/plain": [
       "hdfs://namenode:9000/samples_100.json MapPartitionsRDD[2] at textFile at NativeMethodAccessorImpl.java:0"
      ]
     },
     "execution_count": 7,
     "metadata": {},
     "output_type": "execute_result"
    }
   ],
   "source": [
    "# Create RDD\n",
    "data_rdd = sc.textFile(file_path)\n",
    "data_rdd"
   ]
  },
  {
   "cell_type": "code",
   "execution_count": 8,
   "metadata": {},
   "outputs": [
    {
     "data": {
      "text/plain": [
       "['{\"reviewerID\": \"AO94DHGC771SJ\", \"asin\": \"0528881469\", \"reviewerName\": \"amazdnu\", \"helpful\": [0, 0], \"reviewText\": \"We got this GPS for my husband who is an (OTR) over the road trucker.  Very Impressed with the shipping time, it arrived a few days earlier than expected...  within a week of use however it started freezing up... could of just been a glitch in that unit.  Worked great when it worked!  Will work great for the normal person as well but does have the \\\\\"trucker\\\\\" option. (the big truck routes - tells you when a scale is coming up ect...)  Love the bigger screen, the ease of use, the ease of putting addresses into memory.  Nothing really bad to say about the unit with the exception of it freezing which is probably one in a million and that\\'s just my luck.  I contacted the seller and within minutes of my email I received a email back with instructions for an exchange! VERY impressed all the way around!\", \"overall\": 5.0, \"summary\": \"Gotta have GPS!\", \"unixReviewTime\": 1370131200, \"reviewTime\": \"06 2, 2013\"}',\n",
       " '{\"reviewerID\": \"AMO214LNFCEI4\", \"asin\": \"0528881469\", \"reviewerName\": \"Amazon Customer\", \"helpful\": [12, 15], \"reviewText\": \"I\\'m a professional OTR truck driver, and I bought a TND 700 at a truck stop hoping to make my life easier.  Rand McNally, are you listening?First thing I did after charging it was connect it to my laptop and install the software and then attempt to update it.  The software detected a problem with my update and wanted my home address so I could be sent a patch on an SD card.  Hello?  I don\\'t think I\\'m all that unusual; my home address is a PO box that a friend checks weekly and that I might get to check every six months or so.  I live in my truck and at truck stops.  If you need to make a patch available on an SD card then you should send the SD cards to the truck stops where the devices are sold.  I ran the update program multiple times until the program said that the TND 700 was completely updated.I programmed in the height (13\\'6\\\\\"), the length (53\\') and the weight (80,000#) of my rig and told it that I preferred highways.  I was parked at a truck stop in the Cincinnati OH area.  My next pickup was about 15 miles down the same freeway but on the other side of it a couple of blocks.  My cell phone GPS (Sprint) said to get on the freeway to get to my pickup.  The TND 700 routed me thru 23 miles of residential streets before finally getting me to my pickup.  Very exciting, especially since every time I refused to turn down a street posted \\\\\"No Trucks\\\\\" the TND 700 took almost 5 minutes to figure a re-route, and it happened multiple times on that short trip.I decided to give it another chance.  After my pickup on the north side of Cincinnati just off of I-75 I needed to head to Phoenix AZ via I-71.  Easy route is to just hop on I-75 and drive west and south to the intersection of I-71.  Indeed, that is what my cell phone advised.  The TND 700, however, wanted to route me over surface streets across the city and pick up I-75 on the other side of the city.  I turned it off and the next time I passed a truck stop of the same chain I purchased it at I returned it and got my money back.I then spent $30 on a cheap printer.  Now I take a minute to set up my route on Google and print it out.  Hasn\\'t gotten me lost yet over several cross country trips.\", \"overall\": 1.0, \"summary\": \"Very Disappointed\", \"unixReviewTime\": 1290643200, \"reviewTime\": \"11 25, 2010\"}']"
      ]
     },
     "execution_count": 8,
     "metadata": {},
     "output_type": "execute_result"
    }
   ],
   "source": [
    "# Take 2 records from a RDD to the Spark driver\n",
    "data_rdd.take(2)"
   ]
  },
  {
   "cell_type": "markdown",
   "metadata": {},
   "source": [
    "<p><b><i>Map</i></b></p>"
   ]
  },
  {
   "cell_type": "code",
   "execution_count": 9,
   "metadata": {},
   "outputs": [],
   "source": [
    "data = [1, 2, 3, 4, 5]\n",
    "data_rdd = sc.parallelize(data)"
   ]
  },
  {
   "cell_type": "code",
   "execution_count": 10,
   "metadata": {},
   "outputs": [],
   "source": [
    "# Increment a value by 1\n",
    "data_map_rdd = data_rdd.map(lambda x: x + 1)"
   ]
  },
  {
   "cell_type": "code",
   "execution_count": 11,
   "metadata": {},
   "outputs": [
    {
     "data": {
      "text/plain": [
       "[2, 3, 4, 5, 6]"
      ]
     },
     "execution_count": 11,
     "metadata": {},
     "output_type": "execute_result"
    }
   ],
   "source": [
    "# Collect data on the Spark driver\n",
    "data_map_rdd.collect()"
   ]
  },
  {
   "cell_type": "markdown",
   "metadata": {},
   "source": [
    "<p><b><i>flatMap</i></b></p>"
   ]
  },
  {
   "cell_type": "code",
   "execution_count": 12,
   "metadata": {},
   "outputs": [],
   "source": [
    "# Create RDD\n",
    "data_rdd = sc.textFile(file_path)"
   ]
  },
  {
   "cell_type": "code",
   "execution_count": 13,
   "metadata": {},
   "outputs": [
    {
     "data": {
      "text/plain": [
       "['{\"reviewerID\": \"AO94DHGC771SJ\", \"asin\": \"0528881469\", \"reviewerName\": \"amazdnu\", \"helpful\": [0, 0], \"reviewText\": \"We got this GPS for my husband who is an (OTR) over the road trucker.  Very Impressed with the shipping time, it arrived a few days earlier than expected...  within a week of use however it started freezing up... could of just been a glitch in that unit.  Worked great when it worked!  Will work great for the normal person as well but does have the \\\\\"trucker\\\\\" option. (the big truck routes - tells you when a scale is coming up ect...)  Love the bigger screen, the ease of use, the ease of putting addresses into memory.  Nothing really bad to say about the unit with the exception of it freezing which is probably one in a million and that\\'s just my luck.  I contacted the seller and within minutes of my email I received a email back with instructions for an exchange! VERY impressed all the way around!\", \"overall\": 5.0, \"summary\": \"Gotta have GPS!\", \"unixReviewTime\": 1370131200, \"reviewTime\": \"06 2, 2013\"}',\n",
       " '{\"reviewerID\": \"AMO214LNFCEI4\", \"asin\": \"0528881469\", \"reviewerName\": \"Amazon Customer\", \"helpful\": [12, 15], \"reviewText\": \"I\\'m a professional OTR truck driver, and I bought a TND 700 at a truck stop hoping to make my life easier.  Rand McNally, are you listening?First thing I did after charging it was connect it to my laptop and install the software and then attempt to update it.  The software detected a problem with my update and wanted my home address so I could be sent a patch on an SD card.  Hello?  I don\\'t think I\\'m all that unusual; my home address is a PO box that a friend checks weekly and that I might get to check every six months or so.  I live in my truck and at truck stops.  If you need to make a patch available on an SD card then you should send the SD cards to the truck stops where the devices are sold.  I ran the update program multiple times until the program said that the TND 700 was completely updated.I programmed in the height (13\\'6\\\\\"), the length (53\\') and the weight (80,000#) of my rig and told it that I preferred highways.  I was parked at a truck stop in the Cincinnati OH area.  My next pickup was about 15 miles down the same freeway but on the other side of it a couple of blocks.  My cell phone GPS (Sprint) said to get on the freeway to get to my pickup.  The TND 700 routed me thru 23 miles of residential streets before finally getting me to my pickup.  Very exciting, especially since every time I refused to turn down a street posted \\\\\"No Trucks\\\\\" the TND 700 took almost 5 minutes to figure a re-route, and it happened multiple times on that short trip.I decided to give it another chance.  After my pickup on the north side of Cincinnati just off of I-75 I needed to head to Phoenix AZ via I-71.  Easy route is to just hop on I-75 and drive west and south to the intersection of I-71.  Indeed, that is what my cell phone advised.  The TND 700, however, wanted to route me over surface streets across the city and pick up I-75 on the other side of the city.  I turned it off and the next time I passed a truck stop of the same chain I purchased it at I returned it and got my money back.I then spent $30 on a cheap printer.  Now I take a minute to set up my route on Google and print it out.  Hasn\\'t gotten me lost yet over several cross country trips.\", \"overall\": 1.0, \"summary\": \"Very Disappointed\", \"unixReviewTime\": 1290643200, \"reviewTime\": \"11 25, 2010\"}']"
      ]
     },
     "execution_count": 13,
     "metadata": {},
     "output_type": "execute_result"
    }
   ],
   "source": [
    "# Take 2 records from a RDD to the Spark driver\n",
    "data_rdd.take(2)"
   ]
  },
  {
   "cell_type": "code",
   "execution_count": 14,
   "metadata": {},
   "outputs": [
    {
     "data": {
      "text/plain": [
       "[['{\"reviewerID\":',\n",
       "  '\"AO94DHGC771SJ\",',\n",
       "  '\"asin\":',\n",
       "  '\"0528881469\",',\n",
       "  '\"reviewerName\":',\n",
       "  '\"amazdnu\",',\n",
       "  '\"helpful\":',\n",
       "  '[0,',\n",
       "  '0],',\n",
       "  '\"reviewText\":',\n",
       "  '\"We',\n",
       "  'got',\n",
       "  'this',\n",
       "  'GPS',\n",
       "  'for',\n",
       "  'my',\n",
       "  'husband',\n",
       "  'who',\n",
       "  'is',\n",
       "  'an',\n",
       "  '(OTR)',\n",
       "  'over',\n",
       "  'the',\n",
       "  'road',\n",
       "  'trucker.',\n",
       "  '',\n",
       "  'Very',\n",
       "  'Impressed',\n",
       "  'with',\n",
       "  'the',\n",
       "  'shipping',\n",
       "  'time,',\n",
       "  'it',\n",
       "  'arrived',\n",
       "  'a',\n",
       "  'few',\n",
       "  'days',\n",
       "  'earlier',\n",
       "  'than',\n",
       "  'expected...',\n",
       "  '',\n",
       "  'within',\n",
       "  'a',\n",
       "  'week',\n",
       "  'of',\n",
       "  'use',\n",
       "  'however',\n",
       "  'it',\n",
       "  'started',\n",
       "  'freezing',\n",
       "  'up...',\n",
       "  'could',\n",
       "  'of',\n",
       "  'just',\n",
       "  'been',\n",
       "  'a',\n",
       "  'glitch',\n",
       "  'in',\n",
       "  'that',\n",
       "  'unit.',\n",
       "  '',\n",
       "  'Worked',\n",
       "  'great',\n",
       "  'when',\n",
       "  'it',\n",
       "  'worked!',\n",
       "  '',\n",
       "  'Will',\n",
       "  'work',\n",
       "  'great',\n",
       "  'for',\n",
       "  'the',\n",
       "  'normal',\n",
       "  'person',\n",
       "  'as',\n",
       "  'well',\n",
       "  'but',\n",
       "  'does',\n",
       "  'have',\n",
       "  'the',\n",
       "  '\\\\\"trucker\\\\\"',\n",
       "  'option.',\n",
       "  '(the',\n",
       "  'big',\n",
       "  'truck',\n",
       "  'routes',\n",
       "  '-',\n",
       "  'tells',\n",
       "  'you',\n",
       "  'when',\n",
       "  'a',\n",
       "  'scale',\n",
       "  'is',\n",
       "  'coming',\n",
       "  'up',\n",
       "  'ect...)',\n",
       "  '',\n",
       "  'Love',\n",
       "  'the',\n",
       "  'bigger',\n",
       "  'screen,',\n",
       "  'the',\n",
       "  'ease',\n",
       "  'of',\n",
       "  'use,',\n",
       "  'the',\n",
       "  'ease',\n",
       "  'of',\n",
       "  'putting',\n",
       "  'addresses',\n",
       "  'into',\n",
       "  'memory.',\n",
       "  '',\n",
       "  'Nothing',\n",
       "  'really',\n",
       "  'bad',\n",
       "  'to',\n",
       "  'say',\n",
       "  'about',\n",
       "  'the',\n",
       "  'unit',\n",
       "  'with',\n",
       "  'the',\n",
       "  'exception',\n",
       "  'of',\n",
       "  'it',\n",
       "  'freezing',\n",
       "  'which',\n",
       "  'is',\n",
       "  'probably',\n",
       "  'one',\n",
       "  'in',\n",
       "  'a',\n",
       "  'million',\n",
       "  'and',\n",
       "  \"that's\",\n",
       "  'just',\n",
       "  'my',\n",
       "  'luck.',\n",
       "  '',\n",
       "  'I',\n",
       "  'contacted',\n",
       "  'the',\n",
       "  'seller',\n",
       "  'and',\n",
       "  'within',\n",
       "  'minutes',\n",
       "  'of',\n",
       "  'my',\n",
       "  'email',\n",
       "  'I',\n",
       "  'received',\n",
       "  'a',\n",
       "  'email',\n",
       "  'back',\n",
       "  'with',\n",
       "  'instructions',\n",
       "  'for',\n",
       "  'an',\n",
       "  'exchange!',\n",
       "  'VERY',\n",
       "  'impressed',\n",
       "  'all',\n",
       "  'the',\n",
       "  'way',\n",
       "  'around!\",',\n",
       "  '\"overall\":',\n",
       "  '5.0,',\n",
       "  '\"summary\":',\n",
       "  '\"Gotta',\n",
       "  'have',\n",
       "  'GPS!\",',\n",
       "  '\"unixReviewTime\":',\n",
       "  '1370131200,',\n",
       "  '\"reviewTime\":',\n",
       "  '\"06',\n",
       "  '2,',\n",
       "  '2013\"}'],\n",
       " ['{\"reviewerID\":',\n",
       "  '\"AMO214LNFCEI4\",',\n",
       "  '\"asin\":',\n",
       "  '\"0528881469\",',\n",
       "  '\"reviewerName\":',\n",
       "  '\"Amazon',\n",
       "  'Customer\",',\n",
       "  '\"helpful\":',\n",
       "  '[12,',\n",
       "  '15],',\n",
       "  '\"reviewText\":',\n",
       "  '\"I\\'m',\n",
       "  'a',\n",
       "  'professional',\n",
       "  'OTR',\n",
       "  'truck',\n",
       "  'driver,',\n",
       "  'and',\n",
       "  'I',\n",
       "  'bought',\n",
       "  'a',\n",
       "  'TND',\n",
       "  '700',\n",
       "  'at',\n",
       "  'a',\n",
       "  'truck',\n",
       "  'stop',\n",
       "  'hoping',\n",
       "  'to',\n",
       "  'make',\n",
       "  'my',\n",
       "  'life',\n",
       "  'easier.',\n",
       "  '',\n",
       "  'Rand',\n",
       "  'McNally,',\n",
       "  'are',\n",
       "  'you',\n",
       "  'listening?First',\n",
       "  'thing',\n",
       "  'I',\n",
       "  'did',\n",
       "  'after',\n",
       "  'charging',\n",
       "  'it',\n",
       "  'was',\n",
       "  'connect',\n",
       "  'it',\n",
       "  'to',\n",
       "  'my',\n",
       "  'laptop',\n",
       "  'and',\n",
       "  'install',\n",
       "  'the',\n",
       "  'software',\n",
       "  'and',\n",
       "  'then',\n",
       "  'attempt',\n",
       "  'to',\n",
       "  'update',\n",
       "  'it.',\n",
       "  '',\n",
       "  'The',\n",
       "  'software',\n",
       "  'detected',\n",
       "  'a',\n",
       "  'problem',\n",
       "  'with',\n",
       "  'my',\n",
       "  'update',\n",
       "  'and',\n",
       "  'wanted',\n",
       "  'my',\n",
       "  'home',\n",
       "  'address',\n",
       "  'so',\n",
       "  'I',\n",
       "  'could',\n",
       "  'be',\n",
       "  'sent',\n",
       "  'a',\n",
       "  'patch',\n",
       "  'on',\n",
       "  'an',\n",
       "  'SD',\n",
       "  'card.',\n",
       "  '',\n",
       "  'Hello?',\n",
       "  '',\n",
       "  'I',\n",
       "  \"don't\",\n",
       "  'think',\n",
       "  \"I'm\",\n",
       "  'all',\n",
       "  'that',\n",
       "  'unusual;',\n",
       "  'my',\n",
       "  'home',\n",
       "  'address',\n",
       "  'is',\n",
       "  'a',\n",
       "  'PO',\n",
       "  'box',\n",
       "  'that',\n",
       "  'a',\n",
       "  'friend',\n",
       "  'checks',\n",
       "  'weekly',\n",
       "  'and',\n",
       "  'that',\n",
       "  'I',\n",
       "  'might',\n",
       "  'get',\n",
       "  'to',\n",
       "  'check',\n",
       "  'every',\n",
       "  'six',\n",
       "  'months',\n",
       "  'or',\n",
       "  'so.',\n",
       "  '',\n",
       "  'I',\n",
       "  'live',\n",
       "  'in',\n",
       "  'my',\n",
       "  'truck',\n",
       "  'and',\n",
       "  'at',\n",
       "  'truck',\n",
       "  'stops.',\n",
       "  '',\n",
       "  'If',\n",
       "  'you',\n",
       "  'need',\n",
       "  'to',\n",
       "  'make',\n",
       "  'a',\n",
       "  'patch',\n",
       "  'available',\n",
       "  'on',\n",
       "  'an',\n",
       "  'SD',\n",
       "  'card',\n",
       "  'then',\n",
       "  'you',\n",
       "  'should',\n",
       "  'send',\n",
       "  'the',\n",
       "  'SD',\n",
       "  'cards',\n",
       "  'to',\n",
       "  'the',\n",
       "  'truck',\n",
       "  'stops',\n",
       "  'where',\n",
       "  'the',\n",
       "  'devices',\n",
       "  'are',\n",
       "  'sold.',\n",
       "  '',\n",
       "  'I',\n",
       "  'ran',\n",
       "  'the',\n",
       "  'update',\n",
       "  'program',\n",
       "  'multiple',\n",
       "  'times',\n",
       "  'until',\n",
       "  'the',\n",
       "  'program',\n",
       "  'said',\n",
       "  'that',\n",
       "  'the',\n",
       "  'TND',\n",
       "  '700',\n",
       "  'was',\n",
       "  'completely',\n",
       "  'updated.I',\n",
       "  'programmed',\n",
       "  'in',\n",
       "  'the',\n",
       "  'height',\n",
       "  '(13\\'6\\\\\"),',\n",
       "  'the',\n",
       "  'length',\n",
       "  \"(53')\",\n",
       "  'and',\n",
       "  'the',\n",
       "  'weight',\n",
       "  '(80,000#)',\n",
       "  'of',\n",
       "  'my',\n",
       "  'rig',\n",
       "  'and',\n",
       "  'told',\n",
       "  'it',\n",
       "  'that',\n",
       "  'I',\n",
       "  'preferred',\n",
       "  'highways.',\n",
       "  '',\n",
       "  'I',\n",
       "  'was',\n",
       "  'parked',\n",
       "  'at',\n",
       "  'a',\n",
       "  'truck',\n",
       "  'stop',\n",
       "  'in',\n",
       "  'the',\n",
       "  'Cincinnati',\n",
       "  'OH',\n",
       "  'area.',\n",
       "  '',\n",
       "  'My',\n",
       "  'next',\n",
       "  'pickup',\n",
       "  'was',\n",
       "  'about',\n",
       "  '15',\n",
       "  'miles',\n",
       "  'down',\n",
       "  'the',\n",
       "  'same',\n",
       "  'freeway',\n",
       "  'but',\n",
       "  'on',\n",
       "  'the',\n",
       "  'other',\n",
       "  'side',\n",
       "  'of',\n",
       "  'it',\n",
       "  'a',\n",
       "  'couple',\n",
       "  'of',\n",
       "  'blocks.',\n",
       "  '',\n",
       "  'My',\n",
       "  'cell',\n",
       "  'phone',\n",
       "  'GPS',\n",
       "  '(Sprint)',\n",
       "  'said',\n",
       "  'to',\n",
       "  'get',\n",
       "  'on',\n",
       "  'the',\n",
       "  'freeway',\n",
       "  'to',\n",
       "  'get',\n",
       "  'to',\n",
       "  'my',\n",
       "  'pickup.',\n",
       "  '',\n",
       "  'The',\n",
       "  'TND',\n",
       "  '700',\n",
       "  'routed',\n",
       "  'me',\n",
       "  'thru',\n",
       "  '23',\n",
       "  'miles',\n",
       "  'of',\n",
       "  'residential',\n",
       "  'streets',\n",
       "  'before',\n",
       "  'finally',\n",
       "  'getting',\n",
       "  'me',\n",
       "  'to',\n",
       "  'my',\n",
       "  'pickup.',\n",
       "  '',\n",
       "  'Very',\n",
       "  'exciting,',\n",
       "  'especially',\n",
       "  'since',\n",
       "  'every',\n",
       "  'time',\n",
       "  'I',\n",
       "  'refused',\n",
       "  'to',\n",
       "  'turn',\n",
       "  'down',\n",
       "  'a',\n",
       "  'street',\n",
       "  'posted',\n",
       "  '\\\\\"No',\n",
       "  'Trucks\\\\\"',\n",
       "  'the',\n",
       "  'TND',\n",
       "  '700',\n",
       "  'took',\n",
       "  'almost',\n",
       "  '5',\n",
       "  'minutes',\n",
       "  'to',\n",
       "  'figure',\n",
       "  'a',\n",
       "  're-route,',\n",
       "  'and',\n",
       "  'it',\n",
       "  'happened',\n",
       "  'multiple',\n",
       "  'times',\n",
       "  'on',\n",
       "  'that',\n",
       "  'short',\n",
       "  'trip.I',\n",
       "  'decided',\n",
       "  'to',\n",
       "  'give',\n",
       "  'it',\n",
       "  'another',\n",
       "  'chance.',\n",
       "  '',\n",
       "  'After',\n",
       "  'my',\n",
       "  'pickup',\n",
       "  'on',\n",
       "  'the',\n",
       "  'north',\n",
       "  'side',\n",
       "  'of',\n",
       "  'Cincinnati',\n",
       "  'just',\n",
       "  'off',\n",
       "  'of',\n",
       "  'I-75',\n",
       "  'I',\n",
       "  'needed',\n",
       "  'to',\n",
       "  'head',\n",
       "  'to',\n",
       "  'Phoenix',\n",
       "  'AZ',\n",
       "  'via',\n",
       "  'I-71.',\n",
       "  '',\n",
       "  'Easy',\n",
       "  'route',\n",
       "  'is',\n",
       "  'to',\n",
       "  'just',\n",
       "  'hop',\n",
       "  'on',\n",
       "  'I-75',\n",
       "  'and',\n",
       "  'drive',\n",
       "  'west',\n",
       "  'and',\n",
       "  'south',\n",
       "  'to',\n",
       "  'the',\n",
       "  'intersection',\n",
       "  'of',\n",
       "  'I-71.',\n",
       "  '',\n",
       "  'Indeed,',\n",
       "  'that',\n",
       "  'is',\n",
       "  'what',\n",
       "  'my',\n",
       "  'cell',\n",
       "  'phone',\n",
       "  'advised.',\n",
       "  '',\n",
       "  'The',\n",
       "  'TND',\n",
       "  '700,',\n",
       "  'however,',\n",
       "  'wanted',\n",
       "  'to',\n",
       "  'route',\n",
       "  'me',\n",
       "  'over',\n",
       "  'surface',\n",
       "  'streets',\n",
       "  'across',\n",
       "  'the',\n",
       "  'city',\n",
       "  'and',\n",
       "  'pick',\n",
       "  'up',\n",
       "  'I-75',\n",
       "  'on',\n",
       "  'the',\n",
       "  'other',\n",
       "  'side',\n",
       "  'of',\n",
       "  'the',\n",
       "  'city.',\n",
       "  '',\n",
       "  'I',\n",
       "  'turned',\n",
       "  'it',\n",
       "  'off',\n",
       "  'and',\n",
       "  'the',\n",
       "  'next',\n",
       "  'time',\n",
       "  'I',\n",
       "  'passed',\n",
       "  'a',\n",
       "  'truck',\n",
       "  'stop',\n",
       "  'of',\n",
       "  'the',\n",
       "  'same',\n",
       "  'chain',\n",
       "  'I',\n",
       "  'purchased',\n",
       "  'it',\n",
       "  'at',\n",
       "  'I',\n",
       "  'returned',\n",
       "  'it',\n",
       "  'and',\n",
       "  'got',\n",
       "  'my',\n",
       "  'money',\n",
       "  'back.I',\n",
       "  'then',\n",
       "  'spent',\n",
       "  '$30',\n",
       "  'on',\n",
       "  'a',\n",
       "  'cheap',\n",
       "  'printer.',\n",
       "  '',\n",
       "  'Now',\n",
       "  'I',\n",
       "  'take',\n",
       "  'a',\n",
       "  'minute',\n",
       "  'to',\n",
       "  'set',\n",
       "  'up',\n",
       "  'my',\n",
       "  'route',\n",
       "  'on',\n",
       "  'Google',\n",
       "  'and',\n",
       "  'print',\n",
       "  'it',\n",
       "  'out.',\n",
       "  '',\n",
       "  \"Hasn't\",\n",
       "  'gotten',\n",
       "  'me',\n",
       "  'lost',\n",
       "  'yet',\n",
       "  'over',\n",
       "  'several',\n",
       "  'cross',\n",
       "  'country',\n",
       "  'trips.\",',\n",
       "  '\"overall\":',\n",
       "  '1.0,',\n",
       "  '\"summary\":',\n",
       "  '\"Very',\n",
       "  'Disappointed\",',\n",
       "  '\"unixReviewTime\":',\n",
       "  '1290643200,',\n",
       "  '\"reviewTime\":',\n",
       "  '\"11',\n",
       "  '25,',\n",
       "  '2010\"}']]"
      ]
     },
     "execution_count": 14,
     "metadata": {},
     "output_type": "execute_result"
    }
   ],
   "source": [
    "data_map_rdd = data_rdd.map(lambda x: x.split(\" \"))\n",
    "data_map_rdd.take(2)"
   ]
  },
  {
   "cell_type": "code",
   "execution_count": 15,
   "metadata": {},
   "outputs": [
    {
     "data": {
      "text/plain": [
       "['{\"reviewerID\":', '\"AO94DHGC771SJ\",']"
      ]
     },
     "execution_count": 15,
     "metadata": {},
     "output_type": "execute_result"
    }
   ],
   "source": [
    "data_flatmap_rdd = data_rdd.flatMap(lambda x: x.split(\" \"))\n",
    "data_flatmap_rdd.take(2)"
   ]
  },
  {
   "cell_type": "markdown",
   "metadata": {},
   "source": [
    "<p><b>filter</b></p>"
   ]
  },
  {
   "cell_type": "code",
   "execution_count": 16,
   "metadata": {},
   "outputs": [
    {
     "data": {
      "text/plain": [
       "[2, 4, 6]"
      ]
     },
     "execution_count": 16,
     "metadata": {},
     "output_type": "execute_result"
    }
   ],
   "source": [
    "data = [1, 2, 3, 4, 5, 6, 7]\n",
    "data_rdd = sc.parallelize(data)\n",
    "data_filter_rdd = data_rdd.filter(lambda x: x % 2 == 0)\n",
    "\n",
    "data_filter_rdd.collect()"
   ]
  },
  {
   "cell_type": "markdown",
   "metadata": {},
   "source": [
    "<p><b>sortBy</b></p>"
   ]
  },
  {
   "cell_type": "code",
   "execution_count": 17,
   "metadata": {},
   "outputs": [
    {
     "data": {
      "text/plain": [
       "['h', 'f', 'c', 'b', 'a']"
      ]
     },
     "execution_count": 17,
     "metadata": {},
     "output_type": "execute_result"
    }
   ],
   "source": [
    "data = [\"f\", \"a\", \"h\", \"b\", \"c\"]\n",
    "\n",
    "data_rdd = sc.parallelize(data)\n",
    "\n",
    "data_sortby_rdd = data_rdd.sortBy(lambda x: x, ascending=False, numPartitions=3)\n",
    "data_sortby_rdd.collect()"
   ]
  },
  {
   "cell_type": "markdown",
   "metadata": {},
   "source": [
    "<p><b>sample</b></p>"
   ]
  },
  {
   "cell_type": "code",
   "execution_count": 18,
   "metadata": {},
   "outputs": [
    {
     "data": {
      "text/plain": [
       "[1, 2, 4, 5, 6, 7]"
      ]
     },
     "execution_count": 18,
     "metadata": {},
     "output_type": "execute_result"
    }
   ],
   "source": [
    "# Sample without replacement\n",
    "data = [1, 2, 3, 4, 5, 6, 7]\n",
    "data_rdd = sc.parallelize(data)\n",
    "data_sample_rdd = data_rdd.sample(withReplacement=False, fraction=0.8) #seed=\n",
    "\n",
    "data_sample_rdd.collect()"
   ]
  },
  {
   "cell_type": "code",
   "execution_count": 19,
   "metadata": {},
   "outputs": [
    {
     "data": {
      "text/plain": [
       "[2, 3, 6, 7]"
      ]
     },
     "execution_count": 19,
     "metadata": {},
     "output_type": "execute_result"
    }
   ],
   "source": [
    "# Sample with replacement\n",
    "data_sample_repl_rdd = data_rdd.sample(withReplacement=True, fraction=0.8) #seed=\n",
    "\n",
    "data_sample_repl_rdd.collect()"
   ]
  },
  {
   "cell_type": "markdown",
   "metadata": {},
   "source": [
    "<p><b>union</b></p>"
   ]
  },
  {
   "cell_type": "code",
   "execution_count": 20,
   "metadata": {},
   "outputs": [
    {
     "data": {
      "text/plain": [
       "[1, 2, 3, 4, 3, 4, 5, 6]"
      ]
     },
     "execution_count": 20,
     "metadata": {},
     "output_type": "execute_result"
    }
   ],
   "source": [
    "data_1 = [1, 2, 3, 4]\n",
    "data_2 = [3, 4, 5, 6]\n",
    "\n",
    "data1_rdd = sc.parallelize(data_1)\n",
    "data2_rdd = sc.parallelize(data_2)\n",
    "\n",
    "data_union_rdd = data1_rdd.union(data2_rdd)\n",
    "\n",
    "data_union_rdd.collect()"
   ]
  },
  {
   "cell_type": "markdown",
   "metadata": {},
   "source": [
    "<p><b>intersection</b></p>"
   ]
  },
  {
   "cell_type": "code",
   "execution_count": 21,
   "metadata": {},
   "outputs": [
    {
     "data": {
      "text/plain": [
       "[3, 4]"
      ]
     },
     "execution_count": 21,
     "metadata": {},
     "output_type": "execute_result"
    }
   ],
   "source": [
    "data_1 = [1, 2, 3, 4]\n",
    "data_2 = [3, 4, 5, 6]\n",
    "\n",
    "data1_rdd = sc.parallelize(data_1)\n",
    "data2_rdd = sc.parallelize(data_2)\n",
    "\n",
    "data_intersection_rdd = data1_rdd.intersection(data2_rdd)\n",
    "\n",
    "data_intersection_rdd.collect()"
   ]
  },
  {
   "cell_type": "markdown",
   "metadata": {},
   "source": [
    "<p><b>distinct</b></p>"
   ]
  },
  {
   "cell_type": "code",
   "execution_count": 22,
   "metadata": {},
   "outputs": [
    {
     "data": {
      "text/plain": [
       "[4, 1, 2, 6, 7]"
      ]
     },
     "execution_count": 22,
     "metadata": {},
     "output_type": "execute_result"
    }
   ],
   "source": [
    "data = [1, 2, 2, 4, 4, 6, 7]\n",
    "data_rdd = sc.parallelize(data)\n",
    "data_distinct_rdd = data_rdd.distinct()\n",
    "\n",
    "data_distinct_rdd.collect()"
   ]
  },
  {
   "cell_type": "markdown",
   "metadata": {},
   "source": [
    "<b>mapPartitions</b>"
   ]
  },
  {
   "cell_type": "code",
   "execution_count": 23,
   "metadata": {},
   "outputs": [
    {
     "data": {
      "text/plain": [
       "[[1, 2, 3], [4, 5, 6], [7, 8, 9]]"
      ]
     },
     "execution_count": 23,
     "metadata": {},
     "output_type": "execute_result"
    }
   ],
   "source": [
    "data = [1, 2, 3, 4, 5, 6, 7, 8, 9]\n",
    "\n",
    "def funct(partition):\n",
    "    part = list()\n",
    "    for record in partition:\n",
    "        part.append(record)\n",
    "    return [part]\n",
    "\n",
    "data_rdd = sc.parallelize(data, 3)\n",
    "data_mappart_rdd = data_rdd.mapPartitions(funct)\n",
    "data_mappart_rdd.collect()"
   ]
  },
  {
   "cell_type": "markdown",
   "metadata": {},
   "source": [
    "<b>mapPartitionsWithIndex</b>"
   ]
  },
  {
   "cell_type": "code",
   "execution_count": 24,
   "metadata": {},
   "outputs": [
    {
     "data": {
      "text/plain": [
       "[(0, 1), (0, 2), (0, 3), (1, 4), (1, 5), (1, 6), (2, 7), (2, 8), (2, 9)]"
      ]
     },
     "execution_count": 24,
     "metadata": {},
     "output_type": "execute_result"
    }
   ],
   "source": [
    "data = [1, 2, 3, 4, 5, 6, 7, 8, 9]\n",
    "\n",
    "def funct(part_id, partition):\n",
    "    for record in partition:\n",
    "        yield part_id, record\n",
    "\n",
    "data_rdd = sc.parallelize(data, 3)\n",
    "data_mappart_rdd = data_rdd.mapPartitionsWithIndex(funct)\n",
    "data_mappart_rdd.collect()"
   ]
  },
  {
   "cell_type": "markdown",
   "metadata": {},
   "source": [
    "<b>cartesian</b>"
   ]
  },
  {
   "cell_type": "code",
   "execution_count": 25,
   "metadata": {},
   "outputs": [
    {
     "data": {
      "text/plain": [
       "[(1, 'a'),\n",
       " (1, 'b'),\n",
       " (2, 'a'),\n",
       " (2, 'b'),\n",
       " (1, 'c'),\n",
       " (1, 'd'),\n",
       " (2, 'c'),\n",
       " (2, 'd'),\n",
       " (3, 'a'),\n",
       " (3, 'b'),\n",
       " (4, 'a'),\n",
       " (4, 'b'),\n",
       " (3, 'c'),\n",
       " (3, 'd'),\n",
       " (4, 'c'),\n",
       " (4, 'd')]"
      ]
     },
     "execution_count": 25,
     "metadata": {},
     "output_type": "execute_result"
    }
   ],
   "source": [
    "data1 = [1, 2, 3, 4]\n",
    "data2 = [\"a\", \"b\", \"c\", \"d\"]\n",
    "\n",
    "data1_rdd = sc.parallelize(data1, 2)\n",
    "data2_rdd = sc.parallelize(data2, 2)\n",
    "\n",
    "data_cartesian_rdd = data1_rdd.cartesian(data2_rdd)\n",
    "\n",
    "data_cartesian_rdd.collect()"
   ]
  },
  {
   "cell_type": "markdown",
   "metadata": {},
   "source": [
    "<b>glom</b>"
   ]
  },
  {
   "cell_type": "code",
   "execution_count": 26,
   "metadata": {},
   "outputs": [
    {
     "data": {
      "text/plain": [
       "[[1, 2], [3, 4], [5, 6], [7, 8, 9]]"
      ]
     },
     "execution_count": 26,
     "metadata": {},
     "output_type": "execute_result"
    }
   ],
   "source": [
    "data = [1, 2, 3, 4, 5, 6, 7, 8, 9]\n",
    "\n",
    "data_rdd = sc.parallelize(data, 4)\n",
    "data_rdd.glom().collect()"
   ]
  },
  {
   "cell_type": "markdown",
   "metadata": {},
   "source": [
    "<b>coalesce</b>"
   ]
  },
  {
   "cell_type": "code",
   "execution_count": 27,
   "metadata": {},
   "outputs": [
    {
     "data": {
      "text/plain": [
       "[[1, 2, 3, 4], [5, 6, 7, 8, 9]]"
      ]
     },
     "execution_count": 27,
     "metadata": {},
     "output_type": "execute_result"
    }
   ],
   "source": [
    "data_coarse_rdd = data_rdd.coalesce(2)\n",
    "data_coarse_rdd.glom().collect()"
   ]
  },
  {
   "cell_type": "markdown",
   "metadata": {},
   "source": [
    "<b>repartition</b>"
   ]
  },
  {
   "cell_type": "code",
   "execution_count": 28,
   "metadata": {},
   "outputs": [
    {
     "data": {
      "text/plain": [
       "[[1, 2, 3, 4], [5, 6, 7, 8, 9]]"
      ]
     },
     "execution_count": 28,
     "metadata": {},
     "output_type": "execute_result"
    }
   ],
   "source": [
    "data = [1, 2, 3, 4, 5, 6, 7, 8, 9]\n",
    "\n",
    "data_rdd = sc.parallelize(data, 2)\n",
    "data_rdd.glom().collect()"
   ]
  },
  {
   "cell_type": "code",
   "execution_count": 29,
   "metadata": {},
   "outputs": [
    {
     "data": {
      "text/plain": [
       "[[], [5, 6, 7, 8, 9], [], [1, 2, 3, 4]]"
      ]
     },
     "execution_count": 29,
     "metadata": {},
     "output_type": "execute_result"
    }
   ],
   "source": [
    "data_repart_incr_rdd = data_rdd.repartition(4)\n",
    "data_repart_incr_rdd.glom().collect()"
   ]
  },
  {
   "cell_type": "markdown",
   "metadata": {},
   "source": [
    "<a name=\"1b\"></a>\n",
    "<div style=\"display:table; width:100%\">\n",
    "    <div style=\"display:table-row\">\n",
    "        <div style=\"display:table-cell; width:80%; font-style:italic; font-weight:bold; font-size:12pt\">\n",
    "            b. Actions\n",
    "        </div>\n",
    "        <div style=\"display:table-cell; border:1px solid lightgrey; width:20%\">\n",
    "            <div style=\"display:table-cell; width:10%; text-align:center; background-color:whitesmoke;\">\n",
    "                <a href=\"#1a\">Back</a>\n",
    "            </div>\n",
    "            <div style=\"display:table-cell; width:10%; text-align:center;\">\n",
    "                <a href=\"#2\">Next</a>\n",
    "            </div>\n",
    "        </div>\n",
    "    </div>\n",
    "</div>"
   ]
  },
  {
   "cell_type": "markdown",
   "metadata": {},
   "source": [
    "<b>reduce</b>"
   ]
  },
  {
   "cell_type": "code",
   "execution_count": 30,
   "metadata": {},
   "outputs": [
    {
     "data": {
      "text/plain": [
       "45"
      ]
     },
     "execution_count": 30,
     "metadata": {},
     "output_type": "execute_result"
    }
   ],
   "source": [
    "data = [1, 2, 3, 4, 5, 6, 7, 8, 9]\n",
    "\n",
    "data_rdd = sc.parallelize(data, 4)\n",
    "\n",
    "data_reduce = data_rdd.reduce(lambda x, y: x + y)\n",
    "data_reduce"
   ]
  },
  {
   "cell_type": "code",
   "execution_count": 31,
   "metadata": {},
   "outputs": [
    {
     "data": {
      "text/plain": [
       "45"
      ]
     },
     "execution_count": 31,
     "metadata": {},
     "output_type": "execute_result"
    }
   ],
   "source": [
    "def summ(x, y):\n",
    "    return x + y\n",
    "\n",
    "data_reduce = data_rdd.reduce(summ)\n",
    "data_reduce"
   ]
  },
  {
   "cell_type": "markdown",
   "metadata": {},
   "source": [
    "<b>fold</b>"
   ]
  },
  {
   "cell_type": "code",
   "execution_count": 32,
   "metadata": {},
   "outputs": [
    {
     "data": {
      "text/plain": [
       "45"
      ]
     },
     "execution_count": 32,
     "metadata": {},
     "output_type": "execute_result"
    }
   ],
   "source": [
    "data = [1, 2, 3, 4, 5, 6, 7, 8, 9]\n",
    "\n",
    "data_rdd = sc.parallelize(data, 4)\n",
    "\n",
    "data_fold = data_rdd.fold(0, lambda x, y: x + y)\n",
    "data_fold"
   ]
  },
  {
   "cell_type": "code",
   "execution_count": 33,
   "metadata": {},
   "outputs": [
    {
     "data": {
      "text/plain": [
       "95"
      ]
     },
     "execution_count": 33,
     "metadata": {},
     "output_type": "execute_result"
    }
   ],
   "source": [
    "data_fold_10 = data_rdd.fold(10, lambda x, y: x + y)\n",
    "data_fold_10"
   ]
  },
  {
   "cell_type": "markdown",
   "metadata": {},
   "source": [
    "<b>count</b>"
   ]
  },
  {
   "cell_type": "code",
   "execution_count": 34,
   "metadata": {},
   "outputs": [
    {
     "data": {
      "text/plain": [
       "9"
      ]
     },
     "execution_count": 34,
     "metadata": {},
     "output_type": "execute_result"
    }
   ],
   "source": [
    "data = [1, 2, 3, 4, 5, 6, 7, 8, 9]\n",
    "\n",
    "data_rdd = sc.parallelize(data, 4)\n",
    "\n",
    "data_count = data_rdd.count()\n",
    "data_count"
   ]
  },
  {
   "cell_type": "markdown",
   "metadata": {},
   "source": [
    "<p><b>countByValue</b></p>"
   ]
  },
  {
   "cell_type": "code",
   "execution_count": 35,
   "metadata": {},
   "outputs": [
    {
     "data": {
      "text/plain": [
       "defaultdict(int, {'car': 2, 'hotel': 1, 'smartphone': 1, 'laptop': 3})"
      ]
     },
     "execution_count": 35,
     "metadata": {},
     "output_type": "execute_result"
    }
   ],
   "source": [
    "pers_purchases = [\"car\", \"hotel\", \"smartphone\", \"laptop\", \"car\", \"laptop\", \"laptop\"]\n",
    "pers_purchases_rdd = sc.parallelize(pers_purchases, 2)\n",
    "\n",
    "count_value = pers_purchases_rdd.countByValue()\n",
    "count_value"
   ]
  },
  {
   "cell_type": "markdown",
   "metadata": {},
   "source": [
    "<b>first</b>"
   ]
  },
  {
   "cell_type": "code",
   "execution_count": 36,
   "metadata": {},
   "outputs": [
    {
     "data": {
      "text/plain": [
       "1"
      ]
     },
     "execution_count": 36,
     "metadata": {},
     "output_type": "execute_result"
    }
   ],
   "source": [
    "data = [1, 2, 3, 4, 5, 6, 7, 8, 9]\n",
    "\n",
    "data_rdd = sc.parallelize(data, 4)\n",
    "\n",
    "data_first = data_rdd.first()\n",
    "data_first"
   ]
  },
  {
   "cell_type": "markdown",
   "metadata": {},
   "source": [
    "<b>take</b>"
   ]
  },
  {
   "cell_type": "code",
   "execution_count": 37,
   "metadata": {},
   "outputs": [
    {
     "data": {
      "text/plain": [
       "[1, 2, 3, 4, 5]"
      ]
     },
     "execution_count": 37,
     "metadata": {},
     "output_type": "execute_result"
    }
   ],
   "source": [
    "data = [1, 2, 3, 4, 5, 6, 7, 8, 9]\n",
    "\n",
    "data_rdd = sc.parallelize(data, 4)\n",
    "\n",
    "data_take = data_rdd.take(5)\n",
    "data_take"
   ]
  },
  {
   "cell_type": "markdown",
   "metadata": {},
   "source": [
    "<b>takeSample</b>"
   ]
  },
  {
   "cell_type": "code",
   "execution_count": 38,
   "metadata": {},
   "outputs": [
    {
     "data": {
      "text/plain": [
       "[8, 4, 3, 6, 9]"
      ]
     },
     "execution_count": 38,
     "metadata": {},
     "output_type": "execute_result"
    }
   ],
   "source": [
    "data = [1, 2, 3, 4, 5, 6, 7, 8, 9]\n",
    "\n",
    "data_rdd = sc.parallelize(data, 4)\n",
    "\n",
    "data_take_sample = data_rdd.takeSample(withReplacement=False, num=5) #seed=\n",
    "data_take_sample"
   ]
  },
  {
   "cell_type": "markdown",
   "metadata": {},
   "source": [
    "<b>takeOrdered</b>"
   ]
  },
  {
   "cell_type": "code",
   "execution_count": 39,
   "metadata": {},
   "outputs": [
    {
     "data": {
      "text/plain": [
       "[9, 8, 7, 6]"
      ]
     },
     "execution_count": 39,
     "metadata": {},
     "output_type": "execute_result"
    }
   ],
   "source": [
    "data = [5, 2, 6, 4, 1, 3, 7, 9, 8]\n",
    "\n",
    "data_rdd = sc.parallelize(data, 4)\n",
    "data_take_desc_ordered = data_rdd.takeOrdered(num=4, key=lambda x: -x)\n",
    "data_take_desc_ordered"
   ]
  },
  {
   "cell_type": "code",
   "execution_count": 40,
   "metadata": {},
   "outputs": [
    {
     "data": {
      "text/plain": [
       "[1, 2, 3, 4]"
      ]
     },
     "execution_count": 40,
     "metadata": {},
     "output_type": "execute_result"
    }
   ],
   "source": [
    "data_take_asc_ordered = data_rdd.takeOrdered(num=4, key=lambda x: x)\n",
    "data_take_asc_ordered"
   ]
  },
  {
   "cell_type": "markdown",
   "metadata": {},
   "source": [
    "<b>aggregate</b>"
   ]
  },
  {
   "cell_type": "code",
   "execution_count": 41,
   "metadata": {},
   "outputs": [
    {
     "data": {
      "text/plain": [
       "(10, 4)"
      ]
     },
     "execution_count": 41,
     "metadata": {},
     "output_type": "execute_result"
    }
   ],
   "source": [
    "data = [1, 2, 3, 4]\n",
    "data_rdd = sc.parallelize(data, 2)\n",
    "\n",
    "data_agg = data_rdd.aggregate((0, 0),\n",
    "                              (lambda x, value: (x[0] + value, x[1] + 1)),\n",
    "                              (lambda x, y: (x[0] + y[0], x[1] + y[1])))\n",
    "data_agg"
   ]
  },
  {
   "cell_type": "code",
   "execution_count": 42,
   "metadata": {},
   "outputs": [
    {
     "data": {
      "text/plain": [
       "(16, 4)"
      ]
     },
     "execution_count": 42,
     "metadata": {},
     "output_type": "execute_result"
    }
   ],
   "source": [
    "data_agg = data_rdd.aggregate((2, 0),\n",
    "                              (lambda x, value: (x[0] + value, x[1] + 1)),\n",
    "                              (lambda x, y: (x[0] + y[0], x[1] + y[1])))\n",
    "data_agg"
   ]
  },
  {
   "cell_type": "markdown",
   "metadata": {},
   "source": [
    "<b>saveAsTextFile</b>"
   ]
  },
  {
   "cell_type": "code",
   "execution_count": 43,
   "metadata": {},
   "outputs": [],
   "source": [
    "# HDFS\n",
    "output_file_path = \"data/spark_rdd/samples_100_split.json\" "
   ]
  },
  {
   "cell_type": "code",
   "execution_count": 44,
   "metadata": {},
   "outputs": [],
   "source": [
    "data_file_rdd = sc.textFile(file_path, 2)\n",
    "\n",
    "data_map_rdd = data_file_rdd.flatMap(lambda x: x.split())\n",
    "\n",
    "data_map_rdd.saveAsTextFile(output_file_path)"
   ]
  },
  {
   "cell_type": "code",
   "execution_count": 45,
   "metadata": {},
   "outputs": [
    {
     "data": {
      "text/plain": [
       "[]"
      ]
     },
     "execution_count": 45,
     "metadata": {},
     "output_type": "execute_result"
    }
   ],
   "source": [
    "data_file_output_rdd = sc.textFile(output_file_path, 2)\n",
    "data_file_output_rdd.take(2)"
   ]
  },
  {
   "cell_type": "markdown",
   "metadata": {},
   "source": [
    "<a name=\"2\"></a>\n",
    "<div style=\"display:table; width:100%; padding-top:10px; padding-bottom:10px; border-bottom:1px solid lightgrey\">\n",
    "    <div style=\"display:table-row\">\n",
    "        <div style=\"display:table-cell; width:80%; font-size:14pt; font-weight:bold\">2. Distributed dataset of (K, V) pairs</div>\n",
    "    \t<div style=\"display:table-cell; width:20%; text-align:center; background-color:whitesmoke; border:1px solid lightgrey\"><a href=\"#0\">To Content</a></div>\n",
    "    </div>\n",
    "</div>"
   ]
  },
  {
   "cell_type": "markdown",
   "metadata": {},
   "source": [
    "<a name=\"2a\"></a>\n",
    "<div style=\"display:table; width:100%\">\n",
    "    <div style=\"display:table-row\">\n",
    "        <div style=\"display:table-cell; width:80%; font-style:italic; font-weight:bold; font-size:12pt\">\n",
    "            a. Transformations\n",
    "        </div>\n",
    "        <div style=\"display:table-cell; border:1px solid lightgrey; width:20%\">\n",
    "            <div style=\"display:table-cell; width:10%; text-align:center; background-color:whitesmoke;\">\n",
    "                <a href=\"#2\">Back</a>\n",
    "            </div>\n",
    "            <div style=\"display:table-cell; width:10%; text-align:center;\">\n",
    "                <a href=\"#2b\">Next</a>\n",
    "            </div>\n",
    "        </div>\n",
    "    </div>\n",
    "</div>"
   ]
  },
  {
   "cell_type": "markdown",
   "metadata": {},
   "source": [
    "<b>groupByKey</b>"
   ]
  },
  {
   "cell_type": "code",
   "execution_count": 46,
   "metadata": {},
   "outputs": [
    {
     "data": {
      "text/plain": [
       "[(2, <pyspark.resultiterable.ResultIterable at 0x7f9cd505a4d0>),\n",
       " (1, <pyspark.resultiterable.ResultIterable at 0x7f9cd505a790>),\n",
       " (3, <pyspark.resultiterable.ResultIterable at 0x7f9cd505a2d0>)]"
      ]
     },
     "execution_count": 46,
     "metadata": {},
     "output_type": "execute_result"
    }
   ],
   "source": [
    "purchases = [(1, \"car\"), (1, \"hotel\"), (1, \"smartphone\"), \n",
    "             (1, \"laptop\"), (2, \"TV\"), (2, \"car\"), \n",
    "             (3, \"laptop\"), (3, \"laptop\"), (3, \"hotel\")]\n",
    "\n",
    "purchases_rdd = sc.parallelize(purchases, 2)\n",
    "\n",
    "groupByKey_rdd = purchases_rdd.groupByKey()\n",
    "groupByKey_rdd.collect()"
   ]
  },
  {
   "cell_type": "code",
   "execution_count": 47,
   "metadata": {},
   "outputs": [
    {
     "data": {
      "text/plain": [
       "[(2, ['TV', 'car']),\n",
       " (1, ['car', 'hotel', 'smartphone', 'laptop']),\n",
       " (3, ['laptop', 'laptop', 'hotel'])]"
      ]
     },
     "execution_count": 47,
     "metadata": {},
     "output_type": "execute_result"
    }
   ],
   "source": [
    "[(k, list(v)) for k, v in groupByKey_rdd.collect()]"
   ]
  },
  {
   "cell_type": "markdown",
   "metadata": {},
   "source": [
    "<b>reduceByKey</b>"
   ]
  },
  {
   "cell_type": "code",
   "execution_count": 48,
   "metadata": {},
   "outputs": [
    {
     "data": {
      "text/plain": [
       "[(2, 'TV car'), (1, 'car hotel smartphone laptop'), (3, 'laptop laptop hotel')]"
      ]
     },
     "execution_count": 48,
     "metadata": {},
     "output_type": "execute_result"
    }
   ],
   "source": [
    "purchases = [(1, \"car\"), (1, \"hotel\"), (1, \"smartphone\"), \n",
    "             (1, \"laptop\"), (2, \"TV\"), (2, \"car\"), \n",
    "             (3, \"laptop\"), (3, \"laptop\"), (3, \"hotel\")]\n",
    "\n",
    "purchases_rdd = sc.parallelize(purchases, 2)\n",
    "\n",
    "reduce_key_rdd = purchases_rdd.reduceByKey(lambda x, y: x + \" \" + y)\n",
    "\n",
    "reduce_key_rdd.collect()"
   ]
  },
  {
   "cell_type": "markdown",
   "metadata": {},
   "source": [
    "<b>foldByKey</b>"
   ]
  },
  {
   "cell_type": "code",
   "execution_count": 49,
   "metadata": {},
   "outputs": [
    {
     "data": {
      "text/plain": [
       "[(2, 'x TV car'),\n",
       " (1, 'x car hotel smartphone laptop'),\n",
       " (3, 'x laptop laptop hotel')]"
      ]
     },
     "execution_count": 49,
     "metadata": {},
     "output_type": "execute_result"
    }
   ],
   "source": [
    "purchases = [(1, \"car\"), (1, \"hotel\"), (1, \"smartphone\"), \n",
    "             (1, \"laptop\"), (2, \"TV\"), (2, \"car\"), \n",
    "             (3, \"laptop\"), (3, \"laptop\"), (3, \"hotel\")]\n",
    "\n",
    "purchases_rdd = sc.parallelize(purchases, 2)\n",
    "\n",
    "reduce_key_rdd = purchases_rdd.foldByKey(\"x\", lambda x, y: x + \" \" + y)\n",
    "\n",
    "reduce_key_rdd.collect()"
   ]
  },
  {
   "cell_type": "markdown",
   "metadata": {},
   "source": [
    "<b>distinct</b>"
   ]
  },
  {
   "cell_type": "code",
   "execution_count": 50,
   "metadata": {},
   "outputs": [
    {
     "data": {
      "text/plain": [
       "[(4, 'Black'), (1, 'Ivanov'), (2, 'Petrov'), (3, 'Jamson')]"
      ]
     },
     "execution_count": 50,
     "metadata": {},
     "output_type": "execute_result"
    }
   ],
   "source": [
    "persons = [(1, \"Ivanov\"), (2, \"Petrov\"), (3, \"Jamson\"), (4, \"Black\"), (4, \"Black\")]\n",
    "persons_rdd = sc.parallelize(persons, 2)\n",
    "\n",
    "map_rdd = persons_rdd.distinct()\n",
    "map_rdd.collect()"
   ]
  },
  {
   "cell_type": "markdown",
   "metadata": {},
   "source": [
    "<b>keys</b>"
   ]
  },
  {
   "cell_type": "code",
   "execution_count": 51,
   "metadata": {},
   "outputs": [
    {
     "data": {
      "text/plain": [
       "['f', 'a', 'h', 'b', 'c']"
      ]
     },
     "execution_count": 51,
     "metadata": {},
     "output_type": "execute_result"
    }
   ],
   "source": [
    "data = [(\"f\", 2), (\"a\", 3), (\"h\", 5), (\"b\", 6), (\"c\", 1)]\n",
    "\n",
    "data_rdd = sc.parallelize(data)\n",
    "\n",
    "data_keys_rdd = data_rdd.keys()\n",
    "data_keys_rdd.collect()"
   ]
  },
  {
   "cell_type": "markdown",
   "metadata": {},
   "source": [
    "<b>values</b>"
   ]
  },
  {
   "cell_type": "code",
   "execution_count": 52,
   "metadata": {},
   "outputs": [
    {
     "data": {
      "text/plain": [
       "[2, 3, 5, 6, 1]"
      ]
     },
     "execution_count": 52,
     "metadata": {},
     "output_type": "execute_result"
    }
   ],
   "source": [
    "data = [(\"f\", 2), (\"a\", 3), (\"h\", 5), (\"b\", 6), (\"c\", 1)]\n",
    "\n",
    "data_rdd = sc.parallelize(data)\n",
    "\n",
    "data_values_rdd = data_rdd.values()\n",
    "data_values_rdd.collect()"
   ]
  },
  {
   "cell_type": "markdown",
   "metadata": {},
   "source": [
    "<b>mapValues</b>"
   ]
  },
  {
   "cell_type": "code",
   "execution_count": 53,
   "metadata": {},
   "outputs": [
    {
     "data": {
      "text/plain": [
       "[('f', 12), ('a', 13), ('h', 15), ('b', 16), ('c', 11)]"
      ]
     },
     "execution_count": 53,
     "metadata": {},
     "output_type": "execute_result"
    }
   ],
   "source": [
    "data = [(\"f\", 2), (\"a\", 3), (\"h\", 5), (\"b\", 6), (\"c\", 1)]\n",
    "\n",
    "data_rdd = sc.parallelize(data)\n",
    "data_mapValue_rdd = data_rdd.mapValues(lambda x: x + 10)\n",
    "data_mapValue_rdd.collect()"
   ]
  },
  {
   "cell_type": "markdown",
   "metadata": {},
   "source": [
    "<b>flatMapValues</b>"
   ]
  },
  {
   "cell_type": "code",
   "execution_count": 54,
   "metadata": {},
   "outputs": [
    {
     "data": {
      "text/plain": [
       "[('f', 2),\n",
       " ('f', 1),\n",
       " ('a', 3),\n",
       " ('a', 1),\n",
       " ('h', 3),\n",
       " ('h', 4),\n",
       " ('h', 5),\n",
       " ('b', 6),\n",
       " ('c', 1)]"
      ]
     },
     "execution_count": 54,
     "metadata": {},
     "output_type": "execute_result"
    }
   ],
   "source": [
    "data = [(\"f\", [2, 1]), (\"a\", [3,1]), (\"h\", [3,4,5]), (\"b\", [6]), (\"c\", [1])]\n",
    "\n",
    "data_rdd = sc.parallelize(data)\n",
    "data_mapValue_rdd = data_rdd.flatMapValues(lambda x: x)\n",
    "data_mapValue_rdd.collect()"
   ]
  },
  {
   "cell_type": "markdown",
   "metadata": {},
   "source": [
    "<b>join</b>"
   ]
  },
  {
   "cell_type": "code",
   "execution_count": 55,
   "metadata": {},
   "outputs": [
    {
     "data": {
      "text/plain": [
       "[(2, ('Petrov', 'TV')),\n",
       " (2, ('Petrov', 'car')),\n",
       " (1, ('Ivanov', 'car')),\n",
       " (1, ('Ivanov', 'hotel')),\n",
       " (1, ('Ivanov', 'smartphone')),\n",
       " (1, ('Ivanov', 'laptop')),\n",
       " (3, ('Jamson', 'laptop')),\n",
       " (3, ('Jamson', 'laptop')),\n",
       " (3, ('Jamson', 'hotel'))]"
      ]
     },
     "execution_count": 55,
     "metadata": {},
     "output_type": "execute_result"
    }
   ],
   "source": [
    "persons = [(1, \"Ivanov\"), (2, \"Petrov\"), (3, \"Jamson\"), (4, \"Black\")]\n",
    "purchases = [(1, \"car\"), (1, \"hotel\"), (1, \"smartphone\"), (1, \"laptop\"), (2, \"TV\"), \n",
    "             (2, \"car\"), (3, \"laptop\"), (3, \"laptop\"), (3, \"hotel\"), (5, \"TV\")]\n",
    "\n",
    "persons_rdd = sc.parallelize(persons, 2)\n",
    "purchases_rdd = sc.parallelize(purchases, 4)\n",
    "\n",
    "join_rdd = persons_rdd.join(purchases_rdd, numPartitions=2)\n",
    "join_rdd.collect()"
   ]
  },
  {
   "cell_type": "code",
   "execution_count": 56,
   "metadata": {},
   "outputs": [
    {
     "data": {
      "text/plain": [
       "[(2, ('Petrov', 'TV')),\n",
       " (2, ('Petrov', 'car')),\n",
       " (4, ('Black', None)),\n",
       " (1, ('Ivanov', 'car')),\n",
       " (1, ('Ivanov', 'hotel')),\n",
       " (1, ('Ivanov', 'smartphone')),\n",
       " (1, ('Ivanov', 'laptop')),\n",
       " (3, ('Jamson', 'laptop')),\n",
       " (3, ('Jamson', 'laptop')),\n",
       " (3, ('Jamson', 'hotel'))]"
      ]
     },
     "execution_count": 56,
     "metadata": {},
     "output_type": "execute_result"
    }
   ],
   "source": [
    "join_left_rdd = persons_rdd.leftOuterJoin(purchases_rdd, numPartitions=2)\n",
    "join_left_rdd.collect()"
   ]
  },
  {
   "cell_type": "code",
   "execution_count": 57,
   "metadata": {},
   "outputs": [
    {
     "data": {
      "text/plain": [
       "[(2, ('Petrov', 'TV')),\n",
       " (2, ('Petrov', 'car')),\n",
       " (1, ('Ivanov', 'car')),\n",
       " (1, ('Ivanov', 'hotel')),\n",
       " (1, ('Ivanov', 'smartphone')),\n",
       " (1, ('Ivanov', 'laptop')),\n",
       " (3, ('Jamson', 'laptop')),\n",
       " (3, ('Jamson', 'laptop')),\n",
       " (3, ('Jamson', 'hotel')),\n",
       " (5, (None, 'TV'))]"
      ]
     },
     "execution_count": 57,
     "metadata": {},
     "output_type": "execute_result"
    }
   ],
   "source": [
    "join_right_rdd = persons_rdd.rightOuterJoin(purchases_rdd, numPartitions=2)\n",
    "join_right_rdd.collect()"
   ]
  },
  {
   "cell_type": "markdown",
   "metadata": {},
   "source": [
    "<b>cogroup</b>"
   ]
  },
  {
   "cell_type": "code",
   "execution_count": 58,
   "metadata": {},
   "outputs": [
    {
     "data": {
      "text/plain": [
       "[(2,\n",
       "  (<pyspark.resultiterable.ResultIterable at 0x7f9cd4ff56d0>,\n",
       "   <pyspark.resultiterable.ResultIterable at 0x7f9cd4fb6910>)),\n",
       " (4,\n",
       "  (<pyspark.resultiterable.ResultIterable at 0x7f9cd4ff5390>,\n",
       "   <pyspark.resultiterable.ResultIterable at 0x7f9cd5060f90>)),\n",
       " (1,\n",
       "  (<pyspark.resultiterable.ResultIterable at 0x7f9cd4ff5090>,\n",
       "   <pyspark.resultiterable.ResultIterable at 0x7f9cd50607d0>)),\n",
       " (3,\n",
       "  (<pyspark.resultiterable.ResultIterable at 0x7f9cd5053090>,\n",
       "   <pyspark.resultiterable.ResultIterable at 0x7f9cd50536d0>)),\n",
       " (5,\n",
       "  (<pyspark.resultiterable.ResultIterable at 0x7f9cd4fedf10>,\n",
       "   <pyspark.resultiterable.ResultIterable at 0x7f9cd4feddd0>))]"
      ]
     },
     "execution_count": 58,
     "metadata": {},
     "output_type": "execute_result"
    }
   ],
   "source": [
    "persons = [(1, \"Ivanov\"), (2, \"Petrov\"), (3, \"Jamson\"), (4, \"Black\")]\n",
    "purchases = [(1, \"car\"), (1, \"hotel\"), (1, \"smartphone\"), (1, \"laptop\"), (2, \"TV\"), \n",
    "             (2, \"car\"), (3, \"laptop\"), (3, \"laptop\"), (3, \"hotel\"), (5, \"TV\")]\n",
    "\n",
    "cogroup_rdd = persons_rdd.cogroup(purchases_rdd, numPartitions=2)\n",
    "\n",
    "cogroup_rdd.collect()"
   ]
  },
  {
   "cell_type": "code",
   "execution_count": 59,
   "metadata": {},
   "outputs": [
    {
     "data": {
      "text/plain": [
       "[(2, [['Petrov'], ['TV', 'car']]),\n",
       " (4, [['Black'], []]),\n",
       " (1, [['Ivanov'], ['car', 'hotel', 'smartphone', 'laptop']]),\n",
       " (3, [['Jamson'], ['laptop', 'laptop', 'hotel']]),\n",
       " (5, [[], ['TV']])]"
      ]
     },
     "execution_count": 59,
     "metadata": {},
     "output_type": "execute_result"
    }
   ],
   "source": [
    "[(k, [list(el) for el in v]) for k, v in cogroup_rdd.collect()]"
   ]
  },
  {
   "cell_type": "markdown",
   "metadata": {},
   "source": [
    "<b>partitionBy</b>"
   ]
  },
  {
   "cell_type": "code",
   "execution_count": 60,
   "metadata": {},
   "outputs": [
    {
     "data": {
      "text/plain": [
       "[[('car', 1), ('hotel', 2), ('smartphone', 2), ('laptop', 3)],\n",
       " [('TV', 4), ('car', 2), ('laptop', 1), ('laptop', 3), ('hotel', 1)]]"
      ]
     },
     "execution_count": 60,
     "metadata": {},
     "output_type": "execute_result"
    }
   ],
   "source": [
    "purchases_price = [(\"car\", 1), (\"hotel\", 2), (\"smartphone\", 2), (\"laptop\", 3), (\"TV\", 4), \n",
    "                   (\"car\", 2), (\"laptop\", 1), (\"laptop\", 3), (\"hotel\", 1)]\n",
    "purchases_price_rdd = sc.parallelize(purchases_price, 2)\n",
    "\n",
    "purchases_price_rdd.glom().collect()"
   ]
  },
  {
   "cell_type": "code",
   "execution_count": 61,
   "metadata": {},
   "outputs": [
    {
     "data": {
      "text/plain": [
       "[[('smartphone', 2), ('laptop', 3), ('TV', 4), ('laptop', 1), ('laptop', 3)],\n",
       " [('car', 1), ('hotel', 2), ('car', 2), ('hotel', 1)]]"
      ]
     },
     "execution_count": 61,
     "metadata": {},
     "output_type": "execute_result"
    }
   ],
   "source": [
    "part_rdd = purchases_price_rdd.partitionBy(2)\n",
    "part_rdd.glom().collect()"
   ]
  },
  {
   "cell_type": "markdown",
   "metadata": {},
   "source": [
    "<b>aggregateByKey</b>"
   ]
  },
  {
   "cell_type": "code",
   "execution_count": 62,
   "metadata": {},
   "outputs": [
    {
     "data": {
      "text/plain": [
       "[('smartphone', (2, 1)),\n",
       " ('laptop', (7, 3)),\n",
       " ('car', (3, 2)),\n",
       " ('hotel', (3, 2)),\n",
       " ('TV', (4, 1))]"
      ]
     },
     "execution_count": 62,
     "metadata": {},
     "output_type": "execute_result"
    }
   ],
   "source": [
    "pers_purchases = [(\"car\", 1), (\"hotel\", 2), (\"smartphone\", 2), \n",
    "                  (\"laptop\", 3), (\"TV\", 4), (\"car\", 2), \n",
    "                  (\"laptop\", 1), (\"laptop\", 3), (\"hotel\", 1)]\n",
    "\n",
    "pers_purchases_rdd = sc.parallelize(pers_purchases, 4)\n",
    "\n",
    "agg_key_rdd = pers_purchases_rdd.aggregateByKey((0, 0), \n",
    "                                                (lambda x, value: (x[0] + value, x[1] + 1)), \n",
    "                                                (lambda x, y: (x[0] + y[0], x[1] + y[1])))\n",
    "agg_key_rdd.collect()"
   ]
  },
  {
   "cell_type": "markdown",
   "metadata": {},
   "source": [
    "<b>combineByKey</b>"
   ]
  },
  {
   "cell_type": "code",
   "execution_count": 63,
   "metadata": {},
   "outputs": [
    {
     "data": {
      "text/plain": [
       "[[('car', 1.0), ('hotel', 2.0)],\n",
       " [('smartphone', 2.0), ('laptop', 3.0)],\n",
       " [('TV', 4.0), ('car', 2.0)],\n",
       " [('laptop', 1.0), ('laptop', 3.0), ('hotel', 1.0)]]"
      ]
     },
     "execution_count": 63,
     "metadata": {},
     "output_type": "execute_result"
    }
   ],
   "source": [
    "purchases_price = [(\"car\", 1.0), (\"hotel\", 2.0), (\"smartphone\", 2.0), \n",
    "                   (\"laptop\", 3.0), (\"TV\", 4.0), (\"car\", 2.0), \n",
    "                   (\"laptop\", 1.0), (\"laptop\", 3.0), (\"hotel\", 1.0)]\n",
    "\n",
    "purchases_price_rdd = sc.parallelize(purchases_price, 4).persist()\n",
    "\n",
    "purchases_price_rdd.glom().collect()"
   ]
  },
  {
   "cell_type": "code",
   "execution_count": 64,
   "metadata": {},
   "outputs": [
    {
     "data": {
      "text/plain": [
       "[('smartphone', (2.0, 1)),\n",
       " ('laptop', (7.0, 3)),\n",
       " ('car', (3.0, 2)),\n",
       " ('hotel', (3.0, 2)),\n",
       " ('TV', (4.0, 1))]"
      ]
     },
     "execution_count": 64,
     "metadata": {},
     "output_type": "execute_result"
    }
   ],
   "source": [
    "combine_key_rdd = purchases_price_rdd.combineByKey((lambda value: (value, 1)), \n",
    "                                                  (lambda x, value: (x[0] + value, x[1] + 1)), \n",
    "                                                  (lambda x, y: (x[0] + y[0], x[1] + y[1])))\n",
    "combine_key_rdd.collect()"
   ]
  },
  {
   "cell_type": "code",
   "execution_count": 65,
   "metadata": {},
   "outputs": [
    {
     "data": {
      "text/plain": [
       "[('smartphone', (2.0, 2)),\n",
       " ('laptop', (7.0, 5)),\n",
       " ('car', (3.0, 4)),\n",
       " ('hotel', (3.0, 4)),\n",
       " ('TV', (4.0, 2))]"
      ]
     },
     "execution_count": 65,
     "metadata": {},
     "output_type": "execute_result"
    }
   ],
   "source": [
    "combine_key_rdd = purchases_price_rdd.combineByKey((lambda value: (value, 2)), \n",
    "                                                  (lambda x, value: (x[0] + value, x[1] + 1)), \n",
    "                                                  (lambda x, y: (x[0] + y[0], x[1] + y[1])))\n",
    "combine_key_rdd.collect()"
   ]
  },
  {
   "cell_type": "markdown",
   "metadata": {},
   "source": [
    "<b>sortByKey</b>"
   ]
  },
  {
   "cell_type": "code",
   "execution_count": 66,
   "metadata": {},
   "outputs": [
    {
     "data": {
      "text/plain": [
       "[('a', 3), ('b', 6), ('c', 1), ('f', 2), ('h', 5)]"
      ]
     },
     "execution_count": 66,
     "metadata": {},
     "output_type": "execute_result"
    }
   ],
   "source": [
    "data = [(\"f\", 2), (\"a\", 3), (\"h\", 5), (\"b\", 6), (\"c\", 1)]\n",
    "\n",
    "data_rdd = sc.parallelize(data)\n",
    "\n",
    "data_sortbykey_rdd = data_rdd.sortByKey(ascending=True, numPartitions=3)\n",
    "data_sortbykey_rdd.collect()"
   ]
  },
  {
   "cell_type": "markdown",
   "metadata": {},
   "source": [
    "<b>sortBy</b>"
   ]
  },
  {
   "cell_type": "code",
   "execution_count": 67,
   "metadata": {},
   "outputs": [
    {
     "data": {
      "text/plain": [
       "[('a', 3), ('b', 6), ('c', 1), ('f', 2), ('h', 5)]"
      ]
     },
     "execution_count": 67,
     "metadata": {},
     "output_type": "execute_result"
    }
   ],
   "source": [
    "data = [(\"f\", 2), (\"a\", 3), (\"h\", 5), (\"b\", 6), (\"c\", 1)]\n",
    "\n",
    "data_rdd = sc.parallelize(data)\n",
    "\n",
    "data_sortby_rdd = data_rdd.sortBy(lambda x: x[0], ascending=True, numPartitions=3)\n",
    "data_sortby_rdd.collect()"
   ]
  },
  {
   "cell_type": "code",
   "execution_count": 68,
   "metadata": {},
   "outputs": [
    {
     "data": {
      "text/plain": [
       "[('c', 1), ('f', 2), ('a', 3), ('h', 5), ('b', 6)]"
      ]
     },
     "execution_count": 68,
     "metadata": {},
     "output_type": "execute_result"
    }
   ],
   "source": [
    "data_sortby_rdd = data_rdd.sortBy(lambda x: x[1], ascending=True, numPartitions=3)\n",
    "data_sortby_rdd.collect()"
   ]
  },
  {
   "cell_type": "markdown",
   "metadata": {},
   "source": [
    "<a name=\"2b\"></a>\n",
    "<div style=\"display:table; width:100%\">\n",
    "    <div style=\"display:table-row\">\n",
    "        <div style=\"display:table-cell; width:80%; font-style:italic; font-weight:bold; font-size:12pt\">\n",
    "            b. Actions\n",
    "        </div>\n",
    "        <div style=\"display:table-cell; border:1px solid lightgrey; width:20%\">\n",
    "            <div style=\"display:table-cell; width:10%; text-align:center; background-color:whitesmoke;\">\n",
    "                <a href=\"#2a\">Back</a>\n",
    "            </div>\n",
    "            <div style=\"display:table-cell; width:10%; text-align:center;\">\n",
    "                <a href=\"#3\">Next</a>\n",
    "            </div>\n",
    "        </div>\n",
    "    </div>\n",
    "</div>"
   ]
  },
  {
   "cell_type": "markdown",
   "metadata": {},
   "source": [
    "<b>countByKey</b>"
   ]
  },
  {
   "cell_type": "code",
   "execution_count": 69,
   "metadata": {},
   "outputs": [
    {
     "data": {
      "text/plain": [
       "defaultdict(int, {1: 4, 2: 2, 3: 3})"
      ]
     },
     "execution_count": 69,
     "metadata": {},
     "output_type": "execute_result"
    }
   ],
   "source": [
    "purchases = [(1, \"car\"), (1, \"hotel\"), (1, \"smartphone\"), \n",
    "             (1, \"laptop\"), (2, \"TV\"), (2, \"car\"), \n",
    "             (3, \"laptop\"), (3, \"laptop\"), (3, \"hotel\")]\n",
    "\n",
    "purchases_rdd = sc.parallelize(purchases, 2)\n",
    "\n",
    "count_key = purchases_rdd.countByKey()\n",
    "\n",
    "count_key"
   ]
  },
  {
   "cell_type": "markdown",
   "metadata": {},
   "source": [
    "<b>takeOrdered</b>"
   ]
  },
  {
   "cell_type": "code",
   "execution_count": 70,
   "metadata": {},
   "outputs": [
    {
     "data": {
      "text/plain": [
       "[('b', 6), ('h', 5), ('a', 3), ('f', 2), ('c', 1)]"
      ]
     },
     "execution_count": 70,
     "metadata": {},
     "output_type": "execute_result"
    }
   ],
   "source": [
    "data = [(\"f\", 2), (\"a\", 3), (\"h\", 5), (\"b\", 6), (\"c\", 1)]\n",
    "\n",
    "data_rdd = sc.parallelize(data)\n",
    "take_ordered = data_rdd.takeOrdered(5, key = lambda x: -x[1])\n",
    "take_ordered"
   ]
  },
  {
   "cell_type": "markdown",
   "metadata": {},
   "source": [
    "<a name=\"3\"></a>\n",
    "<div style=\"display:table; width:100%; padding-top:10px; padding-bottom:10px; border-bottom:1px solid lightgrey\">\n",
    "    <div style=\"display:table-row\">\n",
    "        <div style=\"display:table-cell; width:80%; font-size:14pt; font-weight:bold\">3. Examples</div>\n",
    "    \t<div style=\"display:table-cell; width:20%; text-align:center; background-color:whitesmoke; border:1px solid lightgrey\"><a href=\"#0\">To content</a></div>\n",
    "    </div>\n",
    "</div>"
   ]
  },
  {
   "cell_type": "markdown",
   "metadata": {},
   "source": [
    "<p><b>WordCount</b> example</p>"
   ]
  },
  {
   "cell_type": "code",
   "execution_count": 71,
   "metadata": {},
   "outputs": [
    {
     "data": {
      "text/plain": [
       "[('{\"reviewerID\":', 1),\n",
       " ('\"AO94DHGC771SJ\",', 1),\n",
       " ('\"asin\":', 1),\n",
       " ('\"0528881469\",', 1),\n",
       " ('\"reviewerName\":', 1)]"
      ]
     },
     "execution_count": 71,
     "metadata": {},
     "output_type": "execute_result"
    }
   ],
   "source": [
    "data_map_pair_rdd = data_map_rdd.map(lambda x: (x, 1))\n",
    "data_map_pair_rdd.take(5)"
   ]
  },
  {
   "cell_type": "code",
   "execution_count": 72,
   "metadata": {},
   "outputs": [
    {
     "data": {
      "text/plain": [
       "[('{\"reviewerID\":', 100),\n",
       " ('\"0528881469\",', 5),\n",
       " ('\"reviewerName\":', 99),\n",
       " ('[0,', 79),\n",
       " ('0],', 72),\n",
       " ('\"reviewText\":', 100),\n",
       " ('got', 8),\n",
       " ('this', 95),\n",
       " ('husband', 2),\n",
       " ('is', 132)]"
      ]
     },
     "execution_count": 72,
     "metadata": {},
     "output_type": "execute_result"
    }
   ],
   "source": [
    "data_map_pair_reduce_rdd = data_map_pair_rdd.reduceByKey(lambda x1, x2: x1+x2)\n",
    "data_map_pair_reduce_rdd.take(10)"
   ]
  },
  {
   "cell_type": "code",
   "execution_count": 73,
   "metadata": {},
   "outputs": [
    {
     "data": {
      "text/plain": [
       "[('{\"reviewerID\":', 100),\n",
       " ('\"0528881469\",', 5),\n",
       " ('\"reviewerName\":', 99),\n",
       " ('[0,', 79),\n",
       " ('0],', 72)]"
      ]
     },
     "execution_count": 73,
     "metadata": {},
     "output_type": "execute_result"
    }
   ],
   "source": [
    "data_file_rdd = sc.textFile(file_path, 2)\n",
    "\n",
    "wcount_rdd = data_file_rdd \\\n",
    "    .flatMap(lambda x: x.split()) \\\n",
    "    .map(lambda x: (x, 1)) \\\n",
    "    .aggregateByKey(0,\n",
    "                    (lambda x, value: x + value), \n",
    "                    (lambda x, y: x + y))\n",
    "\n",
    "wcount_rdd.take(5)"
   ]
  },
  {
   "cell_type": "code",
   "execution_count": 74,
   "metadata": {},
   "outputs": [
    {
     "data": {
      "text/plain": [
       "[('{\"reviewerID\":', 100),\n",
       " ('\"0528881469\",', 5),\n",
       " ('\"reviewerName\":', 99),\n",
       " ('[0,', 79),\n",
       " ('0],', 72),\n",
       " ('\"reviewText\":', 100),\n",
       " ('got', 8),\n",
       " ('this', 95),\n",
       " ('husband', 2),\n",
       " ('is', 132)]"
      ]
     },
     "execution_count": 74,
     "metadata": {},
     "output_type": "execute_result"
    }
   ],
   "source": [
    "data_file_rdd = sc.textFile(file_path, 2)\n",
    "\n",
    "wcount_rdd = data_file_rdd \\\n",
    "    .flatMap(lambda x: x.split()) \\\n",
    "    .map(lambda x: (x, 1)) \\\n",
    "    .reduceByKey(lambda x1, x2: x1 + x2)\n",
    "    \n",
    "wcount_rdd.take(10)"
   ]
  },
  {
   "cell_type": "code",
   "execution_count": 75,
   "metadata": {},
   "outputs": [
    {
     "data": {
      "text/plain": [
       "defaultdict(int,\n",
       "            {'{\"reviewerID\":': 100,\n",
       "             '\"AO94DHGC771SJ\",': 1,\n",
       "             '\"asin\":': 100,\n",
       "             '\"0528881469\",': 5,\n",
       "             '\"reviewerName\":': 99,\n",
       "             '\"amazdnu\",': 1,\n",
       "             '\"helpful\":': 100,\n",
       "             '[0,': 79,\n",
       "             '0],': 72,\n",
       "             '\"reviewText\":': 100,\n",
       "             '\"We': 4,\n",
       "             'got': 8,\n",
       "             'this': 95,\n",
       "             'GPS': 7,\n",
       "             'for': 126,\n",
       "             'my': 84,\n",
       "             'husband': 2,\n",
       "             'who': 6,\n",
       "             'is': 132,\n",
       "             'an': 24,\n",
       "             '(OTR)': 1,\n",
       "             'over': 8,\n",
       "             'the': 476,\n",
       "             'road': 5,\n",
       "             'trucker.': 1,\n",
       "             'Very': 9,\n",
       "             'Impressed': 1,\n",
       "             'with': 81,\n",
       "             'shipping': 2,\n",
       "             'time,': 1,\n",
       "             'it': 187,\n",
       "             'arrived': 1,\n",
       "             'a': 270,\n",
       "             'few': 4,\n",
       "             'days': 3,\n",
       "             'earlier': 1,\n",
       "             'than': 20,\n",
       "             'expected...': 1,\n",
       "             'within': 4,\n",
       "             'week': 2,\n",
       "             'of': 133,\n",
       "             'use': 21,\n",
       "             'however': 3,\n",
       "             'started': 1,\n",
       "             'freezing': 2,\n",
       "             'up...': 1,\n",
       "             'could': 18,\n",
       "             'just': 29,\n",
       "             'been': 7,\n",
       "             'glitch': 1,\n",
       "             'in': 81,\n",
       "             'that': 86,\n",
       "             'unit.': 5,\n",
       "             'Worked': 1,\n",
       "             'great': 19,\n",
       "             'when': 13,\n",
       "             'worked!': 1,\n",
       "             'Will': 1,\n",
       "             'work': 9,\n",
       "             'normal': 2,\n",
       "             'person': 4,\n",
       "             'as': 52,\n",
       "             'well': 20,\n",
       "             'but': 62,\n",
       "             'does': 19,\n",
       "             'have': 74,\n",
       "             '\\\\\"trucker\\\\\"': 1,\n",
       "             'option.': 1,\n",
       "             '(the': 1,\n",
       "             'big': 7,\n",
       "             'truck': 24,\n",
       "             'routes': 3,\n",
       "             '-': 8,\n",
       "             'tells': 1,\n",
       "             'you': 67,\n",
       "             'scale': 1,\n",
       "             'coming': 2,\n",
       "             'up': 23,\n",
       "             'ect...)': 1,\n",
       "             'Love': 1,\n",
       "             'bigger': 5,\n",
       "             'screen,': 1,\n",
       "             'ease': 4,\n",
       "             'use,': 2,\n",
       "             'putting': 5,\n",
       "             'addresses': 1,\n",
       "             'into': 10,\n",
       "             'memory.': 1,\n",
       "             'Nothing': 1,\n",
       "             'really': 15,\n",
       "             'bad': 4,\n",
       "             'to': 310,\n",
       "             'say': 7,\n",
       "             'about': 13,\n",
       "             'unit': 25,\n",
       "             'exception': 1,\n",
       "             'which': 14,\n",
       "             'probably': 2,\n",
       "             'one': 34,\n",
       "             'million': 1,\n",
       "             'and': 214,\n",
       "             \"that's\": 3,\n",
       "             'luck.': 1,\n",
       "             'I': 235,\n",
       "             'contacted': 2,\n",
       "             'seller': 3,\n",
       "             'minutes': 2,\n",
       "             'email': 2,\n",
       "             'received': 3,\n",
       "             'back': 14,\n",
       "             'instructions': 11,\n",
       "             'exchange!': 1,\n",
       "             'VERY': 3,\n",
       "             'impressed': 3,\n",
       "             'all': 20,\n",
       "             'way': 7,\n",
       "             'around!\",': 1,\n",
       "             '\"overall\":': 100,\n",
       "             '5.0,': 53,\n",
       "             '\"summary\":': 100,\n",
       "             '\"Gotta': 1,\n",
       "             'GPS!\",': 1,\n",
       "             '\"unixReviewTime\":': 100,\n",
       "             '1370131200,': 1,\n",
       "             '\"reviewTime\":': 100,\n",
       "             '\"06': 7,\n",
       "             '2,': 6,\n",
       "             '2013\"}': 42,\n",
       "             '\"AMO214LNFCEI4\",': 1,\n",
       "             '\"Amazon': 6,\n",
       "             'Customer\",': 5,\n",
       "             '[12,': 1,\n",
       "             '15],': 1,\n",
       "             '\"I\\'m': 1,\n",
       "             'professional': 1,\n",
       "             'OTR': 1,\n",
       "             'driver,': 1,\n",
       "             'bought': 18,\n",
       "             'TND': 12,\n",
       "             '700': 8,\n",
       "             'at': 25,\n",
       "             'stop': 6,\n",
       "             'hoping': 1,\n",
       "             'make': 14,\n",
       "             'life': 1,\n",
       "             'easier.': 1,\n",
       "             'Rand': 3,\n",
       "             'McNally,': 1,\n",
       "             'are': 30,\n",
       "             'listening?First': 1,\n",
       "             'thing': 10,\n",
       "             'did': 11,\n",
       "             'after': 4,\n",
       "             'charging': 2,\n",
       "             'was': 79,\n",
       "             'connect': 2,\n",
       "             'laptop': 1,\n",
       "             'install': 15,\n",
       "             'software': 3,\n",
       "             'then': 10,\n",
       "             'attempt': 1,\n",
       "             'update': 5,\n",
       "             'it.': 13,\n",
       "             'The': 39,\n",
       "             'detected': 1,\n",
       "             'problem': 9,\n",
       "             'wanted': 6,\n",
       "             'home': 5,\n",
       "             'address': 2,\n",
       "             'so': 45,\n",
       "             'be': 44,\n",
       "             'sent': 1,\n",
       "             'patch': 2,\n",
       "             'on': 82,\n",
       "             'SD': 3,\n",
       "             'card.': 1,\n",
       "             'Hello?': 1,\n",
       "             \"don't\": 15,\n",
       "             'think': 12,\n",
       "             \"I'm\": 8,\n",
       "             'unusual;': 1,\n",
       "             'PO': 1,\n",
       "             'box': 2,\n",
       "             'friend': 1,\n",
       "             'checks': 1,\n",
       "             'weekly': 1,\n",
       "             'might': 6,\n",
       "             'get': 28,\n",
       "             'check': 1,\n",
       "             'every': 8,\n",
       "             'six': 2,\n",
       "             'months': 2,\n",
       "             'or': 35,\n",
       "             'so.': 1,\n",
       "             'live': 2,\n",
       "             'stops.': 1,\n",
       "             'If': 4,\n",
       "             'need': 19,\n",
       "             'available': 3,\n",
       "             'card': 1,\n",
       "             'should': 4,\n",
       "             'send': 2,\n",
       "             'cards': 1,\n",
       "             'stops': 6,\n",
       "             'where': 11,\n",
       "             'devices': 2,\n",
       "             'sold.': 1,\n",
       "             'ran': 1,\n",
       "             'program': 2,\n",
       "             'multiple': 4,\n",
       "             'times': 5,\n",
       "             'until': 2,\n",
       "             'said': 5,\n",
       "             'completely': 3,\n",
       "             'updated.I': 1,\n",
       "             'programmed': 1,\n",
       "             'height': 1,\n",
       "             '(13\\'6\\\\\"),': 1,\n",
       "             'length': 2,\n",
       "             \"(53')\": 1,\n",
       "             'weight': 5,\n",
       "             '(80,000#)': 1,\n",
       "             'rig': 1,\n",
       "             'told': 1,\n",
       "             'preferred': 2,\n",
       "             'highways.': 1,\n",
       "             'parked': 1,\n",
       "             'Cincinnati': 2,\n",
       "             'OH': 1,\n",
       "             'area.': 1,\n",
       "             'My': 5,\n",
       "             'next': 7,\n",
       "             'pickup': 2,\n",
       "             '15': 1,\n",
       "             'miles': 3,\n",
       "             'down': 12,\n",
       "             'same': 6,\n",
       "             'freeway': 2,\n",
       "             'other': 20,\n",
       "             'side': 12,\n",
       "             'couple': 4,\n",
       "             'blocks.': 1,\n",
       "             'cell': 2,\n",
       "             'phone': 2,\n",
       "             '(Sprint)': 1,\n",
       "             'pickup.': 2,\n",
       "             'routed': 1,\n",
       "             'me': 14,\n",
       "             'thru': 1,\n",
       "             '23': 3,\n",
       "             'residential': 1,\n",
       "             'streets': 2,\n",
       "             'before': 3,\n",
       "             'finally': 1,\n",
       "             'getting': 4,\n",
       "             'exciting,': 1,\n",
       "             'especially': 4,\n",
       "             'since': 4,\n",
       "             'time': 8,\n",
       "             'refused': 1,\n",
       "             'turn': 5,\n",
       "             'street': 4,\n",
       "             'posted': 2,\n",
       "             '\\\\\"No': 1,\n",
       "             'Trucks\\\\\"': 1,\n",
       "             'took': 4,\n",
       "             'almost': 3,\n",
       "             '5': 2,\n",
       "             'figure': 3,\n",
       "             're-route,': 1,\n",
       "             'happened': 2,\n",
       "             'short': 1,\n",
       "             'trip.I': 1,\n",
       "             'decided': 4,\n",
       "             'give': 4,\n",
       "             'another': 8,\n",
       "             'chance.': 1,\n",
       "             'After': 2,\n",
       "             'north': 1,\n",
       "             'off': 7,\n",
       "             'I-75': 3,\n",
       "             'needed': 10,\n",
       "             'head': 1,\n",
       "             'Phoenix': 1,\n",
       "             'AZ': 1,\n",
       "             'via': 3,\n",
       "             'I-71.': 2,\n",
       "             'Easy': 5,\n",
       "             'route': 19,\n",
       "             'hop': 1,\n",
       "             'drive': 4,\n",
       "             'west': 1,\n",
       "             'south': 1,\n",
       "             'intersection': 1,\n",
       "             'Indeed,': 1,\n",
       "             'what': 18,\n",
       "             'advised.': 1,\n",
       "             '700,': 1,\n",
       "             'however,': 1,\n",
       "             'surface': 2,\n",
       "             'across': 2,\n",
       "             'city': 3,\n",
       "             'pick': 2,\n",
       "             'city.': 1,\n",
       "             'turned': 2,\n",
       "             'passed': 1,\n",
       "             'chain': 1,\n",
       "             'purchased': 3,\n",
       "             'returned': 2,\n",
       "             'money': 3,\n",
       "             'back.I': 1,\n",
       "             'spent': 2,\n",
       "             '$30': 1,\n",
       "             'cheap': 4,\n",
       "             'printer.': 1,\n",
       "             'Now': 1,\n",
       "             'take': 8,\n",
       "             'minute': 2,\n",
       "             'set': 4,\n",
       "             'Google': 1,\n",
       "             'print': 1,\n",
       "             'out.': 1,\n",
       "             \"Hasn't\": 1,\n",
       "             'gotten': 2,\n",
       "             'lost': 2,\n",
       "             'yet': 2,\n",
       "             'several': 6,\n",
       "             'cross': 1,\n",
       "             'country': 1,\n",
       "             'trips.\",': 1,\n",
       "             '1.0,': 4,\n",
       "             '\"Very': 7,\n",
       "             'Disappointed\",': 1,\n",
       "             '1290643200,': 1,\n",
       "             '\"11': 8,\n",
       "             '25,': 5,\n",
       "             '2010\"}': 8,\n",
       "             '\"A3N7T0DY83Y4IG\",': 1,\n",
       "             '\"C.': 4,\n",
       "             'A.': 2,\n",
       "             'Freeman\",': 1,\n",
       "             '[43,': 1,\n",
       "             '45],': 1,\n",
       "             '\"Well,': 1,\n",
       "             'can': 21,\n",
       "             'say.': 1,\n",
       "             \"I've\": 9,\n",
       "             'had': 32,\n",
       "             'four': 5,\n",
       "             'now.': 1,\n",
       "             'Prior': 1,\n",
       "             'Garmin': 4,\n",
       "             '755T': 1,\n",
       "             'non-truck': 1,\n",
       "             'GPS.': 2,\n",
       "             'One': 2,\n",
       "             'favorite': 1,\n",
       "             'features': 2,\n",
       "             'ability': 7,\n",
       "             'plan': 2,\n",
       "             'by': 12,\n",
       "             'determining': 1,\n",
       "             'mileage': 4,\n",
       "             'using': 13,\n",
       "             'feature.': 1,\n",
       "             'What': 4,\n",
       "             'would': 28,\n",
       "             'do': 12,\n",
       "             'map': 2,\n",
       "             'myself': 1,\n",
       "             'different': 11,\n",
       "             'ways': 1,\n",
       "             'forcing': 2,\n",
       "             'vias': 2,\n",
       "             'locations': 1,\n",
       "             'along': 1,\n",
       "             'route,': 1,\n",
       "             'otherwise,': 1,\n",
       "             'like': 17,\n",
       "             'most': 11,\n",
       "             \"'s,\": 1,\n",
       "             'determines': 1,\n",
       "             'thinks': 1,\n",
       "             'best': 8,\n",
       "             'route.': 1,\n",
       "             'add': 3,\n",
       "             '10': 6,\n",
       "             \"Via's\": 1,\n",
       "             'points': 1,\n",
       "             'each': 2,\n",
       "             'based': 1,\n",
       "             'factors': 1,\n",
       "             'determine': 3,\n",
       "             'take.': 1,\n",
       "             'Multiple': 1,\n",
       "             'important': 1,\n",
       "             'reason': 3,\n",
       "             'having': 2,\n",
       "             'Garmin.': 5,\n",
       "             'However': 2,\n",
       "             'not': 57,\n",
       "             'specific.': 2,\n",
       "             'And': 5,\n",
       "             'considering': 4,\n",
       "             'am': 19,\n",
       "             'now': 5,\n",
       "             'hauling': 1,\n",
       "             'strictly': 1,\n",
       "             'hazmat': 1,\n",
       "             'something': 6,\n",
       "             'consideration.': 1,\n",
       "             'perusing': 1,\n",
       "             'various': 1,\n",
       "             'forums,': 1,\n",
       "             'review': 1,\n",
       "             'sites,': 2,\n",
       "             'word-of-mouth': 1,\n",
       "             'choices': 1,\n",
       "             'boiled': 1,\n",
       "             '465T': 1,\n",
       "             'RAND': 5,\n",
       "             'McNally': 5,\n",
       "             'Intelliroute': 1,\n",
       "             '700.': 2,\n",
       "             'Even': 1,\n",
       "             'though': 3,\n",
       "             'quite': 8,\n",
       "             'bit': 11,\n",
       "             'more': 20,\n",
       "             'chose': 1,\n",
       "             'reasons.': 1,\n",
       "             'main': 3,\n",
       "             'being': 5,\n",
       "             'extra': 6,\n",
       "             'screen': 8,\n",
       "             'size,': 1,\n",
       "             'its': 17,\n",
       "             'coordinate': 1,\n",
       "             'atlas': 2,\n",
       "             'also': 11,\n",
       "             'updating.Now': 1,\n",
       "             'first': 5,\n",
       "             'impression': 2,\n",
       "             'It': 40,\n",
       "             'seems': 10,\n",
       "             'aesthetically': 1,\n",
       "             'pleasing': 1,\n",
       "             'durably': 1,\n",
       "             'built': 3,\n",
       "             'noticed': 5,\n",
       "             \"it's\": 22,\n",
       "             'very': 28,\n",
       "             'slow': 1,\n",
       "             'boot': 2,\n",
       "             'compared': 3,\n",
       "             'old': 4,\n",
       "             'Whether': 1,\n",
       "             'unique': 2,\n",
       "             'common': 1,\n",
       "             'amongst': 1,\n",
       "             'specific': 9,\n",
       "             'gps': 2,\n",
       "             'units': 2,\n",
       "             'cannot': 3,\n",
       "             'tell,': 1,\n",
       "             'deal.': 1,\n",
       "             'second': 2,\n",
       "             'overwhelming': 1,\n",
       "             'wealth': 1,\n",
       "             'information': 1,\n",
       "             'put': 11,\n",
       "             'forth.': 1,\n",
       "             'That': 3,\n",
       "             'explain': 1,\n",
       "             'why': 3,\n",
       "             'manual': 1,\n",
       "             '(available': 1,\n",
       "             'dock)': 1,\n",
       "             '100': 1,\n",
       "             'pages': 1,\n",
       "             'long.....': 1,\n",
       "             'There': 2,\n",
       "             'somewhat': 4,\n",
       "             'learning': 1,\n",
       "             'curve': 1,\n",
       "             'complexity': 1,\n",
       "             'entering': 1,\n",
       "             'routes.': 1,\n",
       "             'As': 4,\n",
       "             'previously': 1,\n",
       "             'mentioned': 1,\n",
       "             'force': 3,\n",
       "             'routing': 6,\n",
       "             'vias.': 1,\n",
       "             'no': 10,\n",
       "             'go': 4,\n",
       "             'While': 1,\n",
       "             'enter': 1,\n",
       "             'nowhere': 1,\n",
       "             'near': 2,\n",
       "             'user-friendly': 1,\n",
       "             'Furthermore': 1,\n",
       "             'there': 14,\n",
       "             'total': 2,\n",
       "             'chosen,': 1,\n",
       "             'Totally': 1,\n",
       "             'flummoxed': 1,\n",
       "             'appeared': 1,\n",
       "             'omission': 1,\n",
       "             'tools': 2,\n",
       "             'trucker': 1,\n",
       "             'went': 3,\n",
       "             'online': 2,\n",
       "             'verified': 1,\n",
       "             'through': 3,\n",
       "             'expert': 2,\n",
       "             'source': 1,\n",
       "             'connected': 3,\n",
       "             'no,': 1,\n",
       "             'feature': 2,\n",
       "             'updates': 1,\n",
       "             'line': 2,\n",
       "             'point.': 1,\n",
       "             'Unbelievable.': 1,\n",
       "             'Also': 5,\n",
       "             'follow': 2,\n",
       "             'challenging.': 1,\n",
       "             'For': 2,\n",
       "             'price,': 6,\n",
       "             'laden,': 1,\n",
       "             'find': 2,\n",
       "             'totally': 1,\n",
       "             'unacceptable.': 1,\n",
       "             'still': 5,\n",
       "             'mulling': 1,\n",
       "             'selling': 2,\n",
       "             'buying': 3,\n",
       "             '465T.': 1,\n",
       "             'GPS,': 1,\n",
       "             'magnificent,': 1,\n",
       "             'volume': 1,\n",
       "             'awesome.Another': 1,\n",
       "             'noticed,': 1,\n",
       "             'unit,': 3,\n",
       "             'some': 21,\n",
       "             'weird': 1,\n",
       "             'does.': 1,\n",
       "             'never': 7,\n",
       "             'owned': 1,\n",
       "             'playing': 1,\n",
       "             'MacNally': 1,\n",
       "             '(and': 1,\n",
       "             'others': 4,\n",
       "             'Navteq)': 1,\n",
       "             'has': 13,\n",
       "             'done': 3,\n",
       "             'plain': 1,\n",
       "             'car': 1,\n",
       "             'Navteq': 1,\n",
       "             'restrictions': 1,\n",
       "             'made': 12,\n",
       "             'notifications': 1,\n",
       "             'map.': 1,\n",
       "             'In': 2,\n",
       "             'databases': 1,\n",
       "             '100%': 1,\n",
       "             'thorough': 1,\n",
       "             'listing': 1,\n",
       "             'country.': 2,\n",
       "             'mean': 2,\n",
       "             'will': 15,\n",
       "             'roads': 3,\n",
       "             'belong': 1,\n",
       "             'on.': 2,\n",
       "             'Today': 1,\n",
       "             'while': 3,\n",
       "             'tried': 2,\n",
       "             '9': 1,\n",
       "             'ton': 1,\n",
       "             'County': 2,\n",
       "             'roads.': 1,\n",
       "             'means': 2,\n",
       "             'limited': 1,\n",
       "             '73280': 1,\n",
       "             'unless': 1,\n",
       "             'tons.': 1,\n",
       "             'restriction': 1,\n",
       "             'listed': 2,\n",
       "             'atlas,': 1,\n",
       "             'believe': 1,\n",
       "             'listed.....': 1,\n",
       "             'unacceptable': 1,\n",
       "             'price': 11,\n",
       "             'sold': 1,\n",
       "             \"I'd\": 4,\n",
       "             'willing': 2,\n",
       "             'bet': 1,\n",
       "             'ever': 2,\n",
       "             'version': 1,\n",
       "             'NavTeq.Another': 1,\n",
       "             'bone': 1,\n",
       "             \"POI's.\": 1,\n",
       "             'Not': 5,\n",
       "             'only': 16,\n",
       "             'ones': 3,\n",
       "             'seem': 4,\n",
       "             'outdated.': 1,\n",
       "             'Garmin,': 1,\n",
       "             'least': 4,\n",
       "             'used,': 1,\n",
       "             'current.': 1,\n",
       "             'nice': 8,\n",
       "             'if': 31,\n",
       "             'own': 6,\n",
       "             \"POI'sTo\": 1,\n",
       "             'sum': 1,\n",
       "             'keep': 4,\n",
       "             'little': 21,\n",
       "             'longer': 1,\n",
       "             'see': 5,\n",
       "             'workable.': 1,\n",
       "             'concept': 1,\n",
       "             'point': 3,\n",
       "             \"I'll\": 3,\n",
       "             'unimpressed.pros:Large': 1,\n",
       "             'screenterrific': 1,\n",
       "             'imagesoutstanding': 1,\n",
       "             'volumecons:inability': 1,\n",
       "             'viasa': 1,\n",
       "             'outdated': 1,\n",
       "             'POI': 1,\n",
       "             'information.Non-truck': 1,\n",
       "             'routings.Cost.\",': 1,\n",
       "             '3.0,': 10,\n",
       "             '\"1st': 1,\n",
       "             'impression\",': 1,\n",
       "             '1283990400,': 1,\n",
       "             '\"09': 6,\n",
       "             '9,': 3,\n",
       "             '\"A1H8PY3QHMQQA0\",': 1,\n",
       "             '\"Dave': 2,\n",
       "             'M.': 3,\n",
       "             'Shaw': 1,\n",
       "             '\\\\\"mack': 1,\n",
       "             'dave\\\\\"\",': 1,\n",
       "             '[9,': 1,\n",
       "             '10],': 1,\n",
       "             '\"Not': 1,\n",
       "             'going': 4,\n",
       "             'write': 1,\n",
       "             'long': 10,\n",
       "             'review,': 1,\n",
       "             'even': 6,\n",
       "             'thought': 3,\n",
       "             'deserves': 1,\n",
       "             'one.': 3,\n",
       "             'driven': 1,\n",
       "             '1-mil': 1,\n",
       "             'pretty': 5,\n",
       "             'know': 2,\n",
       "             'whats': 1,\n",
       "             'fastest': 1,\n",
       "             'shortest.': 1,\n",
       "             'Have': 1,\n",
       "             'basic': 5,\n",
       "             'garmin': 2,\n",
       "             'past': 1,\n",
       "             'three': 2,\n",
       "             'years': 3,\n",
       "             'ANY': 1,\n",
       "             'Gps': 1,\n",
       "             \"they'll\": 1,\n",
       "             'ALL': 1,\n",
       "             'trouble': 1,\n",
       "             'let': 1,\n",
       "             'them.': 1,\n",
       "             'excited': 1,\n",
       "             'due': 7,\n",
       "             'size': 5,\n",
       "             'features.': 1,\n",
       "             'Allot': 1,\n",
       "             'grafics': 1,\n",
       "             'info': 1,\n",
       "             'thats': 1,\n",
       "             'usefull.': 1,\n",
       "             'But': 4,\n",
       "             'item': 5,\n",
       "             'lacking': 1,\n",
       "             'tracking.': 1,\n",
       "             'gave': 4,\n",
       "             'allot': 2,\n",
       "             'leadway': 1,\n",
       "             'mistakes': 1,\n",
       "             'fact': 3,\n",
       "             'cool': 1,\n",
       "             'stuff': 1,\n",
       "             'did,': 1,\n",
       "             'track': 1,\n",
       "             'close': 1,\n",
       "             'due.': 1,\n",
       "             'Its': 3,\n",
       "             'prossesor': 1,\n",
       "             'they': 13,\n",
       "             'installed': 5,\n",
       "             'old.': 1,\n",
       "             'Example': 1,\n",
       "             'simple': 3,\n",
       "             'change': 2,\n",
       "             'I.E.': 1,\n",
       "             'town': 1,\n",
       "             \"couldn't\": 3,\n",
       "             'blocked': 1,\n",
       "             'off,': 1,\n",
       "             'upwards': 1,\n",
       "             '45': 1,\n",
       "             'seconds': 1,\n",
       "             'half': 2,\n",
       "             'reroute': 1,\n",
       "             'me.': 3,\n",
       "             'Here': 1,\n",
       "             'sitting': 3,\n",
       "             'light': 1,\n",
       "             'waiting': 2,\n",
       "             'directions': 1,\n",
       "             'cars': 2,\n",
       "             'backside': 1,\n",
       "             \"didn't\": 9,\n",
       "             'happy.': 1,\n",
       "             'This': 19,\n",
       "             'evertime': 1,\n",
       "             'reroute,': 1,\n",
       "             'weather': 1,\n",
       "             'major': 1,\n",
       "             'highway': 1,\n",
       "             'change.': 1,\n",
       "             'from': 21,\n",
       "             'twice': 2,\n",
       "             'itself': 1,\n",
       "             'up.': 1,\n",
       "             'At': 1,\n",
       "             'dozen': 1,\n",
       "             'wrong': 3,\n",
       "             'self': 1,\n",
       "             'lost....I.E.': 1,\n",
       "             'left': 6,\n",
       "             'xyz': 1,\n",
       "             'street,': 1,\n",
       "             'way.': 1,\n",
       "             'Or': 1,\n",
       "             '800': 1,\n",
       "             'yards': 1,\n",
       "             'less': 4,\n",
       "             'feet': 2,\n",
       "             'away.': 1,\n",
       "             'You': 4,\n",
       "             'conjested': 1,\n",
       "             'situation': 1,\n",
       "             'mixed': 1,\n",
       "             'up,': 2,\n",
       "             'out': 13,\n",
       "             'Twice': 1,\n",
       "             'under': 1,\n",
       "             '12\\'6\\\\\"': 1,\n",
       "             'bridges': 1,\n",
       "             '13\\'6\\\\\".': 1,\n",
       "             'Of': 2,\n",
       "             'course': 1,\n",
       "             'sure': 9,\n",
       "             'setting': 1,\n",
       "             'were': 15,\n",
       "             'supposed': 2,\n",
       "             'be.': 1,\n",
       "             'updated': 1,\n",
       "             'OS': 1,\n",
       "             'version,via': 1,\n",
       "             'McNally.': 1,\n",
       "             'All': 4,\n",
       "             'expected': 3,\n",
       "             'alot': 1,\n",
       "             'field': 1,\n",
       "             'tested': 2,\n",
       "             'people': 2,\n",
       "             'allot.': 1,\n",
       "             'many': 6,\n",
       "             'mistakes.': 1,\n",
       "             'Going': 1,\n",
       "             'garmin.': 1,\n",
       "             \"isn't\": 4,\n",
       "             'complaints,': 1,\n",
       "             'friends': 3,\n",
       "             'complaints.': 2,\n",
       "             'us': 2,\n",
       "             'units.\",': 1,\n",
       "             '2.0,': 3,\n",
       "             '\"Great': 11,\n",
       "             'grafics,': 1,\n",
       "             'POOR': 1,\n",
       "             'GPS\",': 1,\n",
       "             '1290556800,': 1,\n",
       "             '24,': 3,\n",
       "             '\"A24EV6RXELQZ63\",': 1,\n",
       "             '\"Wayne': 1,\n",
       "             'Smith\",': 1,\n",
       "             '\"I\\'ve': 1,\n",
       "             'mine': 7,\n",
       "             'year': 2,\n",
       "             \"here's\": 1,\n",
       "             'we': 15,\n",
       "             'got.': 1,\n",
       "             'tries': 1,\n",
       "             'non': 1,\n",
       "             'telling': 1,\n",
       "             'illegal': 1,\n",
       "             'such': 2,\n",
       "             'Interstate': 1,\n",
       "             '25': 1,\n",
       "             'Denver': 1,\n",
       "             'Colorado': 1,\n",
       "             '(according': 1,\n",
       "             'GPS)': 1,\n",
       "             'non-': 1,\n",
       "             'instead.': 1,\n",
       "             'drivers': 1,\n",
       "             'our': 6,\n",
       "             'company': 2,\n",
       "             '(of': 1,\n",
       "             '50)': 1,\n",
       "             'crashed': 1,\n",
       "             'un-recoverable': 1,\n",
       "             'state.': 1,\n",
       "             'Our': 3,\n",
       "             'representative': 1,\n",
       "             'informed': 1,\n",
       "             'them': 10,\n",
       "             'designed': 3,\n",
       "             'period': 1,\n",
       "             'time.': 2,\n",
       "             'Really?': 1,\n",
       "             'driver': 3,\n",
       "             'We': 3,\n",
       "             '$2400': 1,\n",
       "             'dollar': 1,\n",
       "             'ticket': 1,\n",
       "             'him': 1,\n",
       "             'road.': 1,\n",
       "             'companies': 1,\n",
       "             'response': 1,\n",
       "             'year,': 1,\n",
       "             'corrected': 2,\n",
       "             'functionality,': 1,\n",
       "             'messing': 1,\n",
       "             'tools.': 1,\n",
       "             'want': 8,\n",
       "             'routes,': 1,\n",
       "             'buy': 10,\n",
       "             'computer.My': 1,\n",
       "             'suggestion': 2,\n",
       "             'Garmen.': 1,\n",
       "             'rated': 5,\n",
       "             'actually': 3,\n",
       "             'better': 4,\n",
       "             'trucks.Wayne\",': 1,\n",
       "             '\"Major': 1,\n",
       "             'issues,': 2,\n",
       "             'excuses': 1,\n",
       "             'support\",': 1,\n",
       "             '1317254400,': 1,\n",
       "             '29,': 2,\n",
       "             '2011\"}': 14,\n",
       "             '\"A2JXAZZI9PHK9Z\",': 1,\n",
       "             '\"0594451647\",': 5,\n",
       "             '\"Billy': 1,\n",
       "             'G.': 2,\n",
       "             'Noland': 1,\n",
       "             '\\\\\"Bill': 1,\n",
       "             'Noland\\\\\"\",': 1,\n",
       "             '[3,': 4,\n",
       "             '3],': 2,\n",
       "             '\"I': 23,\n",
       "             'Nook': 13,\n",
       "             'HD+.': 1,\n",
       "             'works': 26,\n",
       "             'described.': 2,\n",
       "             'HD': 6,\n",
       "             'picture': 2,\n",
       "             'Samsung': 4,\n",
       "             '52&#34;': 1,\n",
       "             'TV': 73,\n",
       "             'excellent.\",': 1,\n",
       "             '\"HDMI': 1,\n",
       "             'adapter': 7,\n",
       "             'cable\",': 2,\n",
       "             '1388707200,': 1,\n",
       "             '\"01': 14,\n",
       "             '3,': 3,\n",
       "             '2014\"}': 21,\n",
       "             '\"A2P5U7BDKKT7FW\",': 1,\n",
       "             '\"Christian\",': 1,\n",
       "             '\"The': 2,\n",
       "             'cable': 11,\n",
       "             'wobbly': 1,\n",
       "             'sometimes': 2,\n",
       "             'disconnects': 1,\n",
       "             'itself.The': 1,\n",
       "             'unfair': 1,\n",
       "             'HD+\",': 1,\n",
       "             '\"Cheap': 1,\n",
       "             'proprietary': 1,\n",
       "             'scam\",': 1,\n",
       "             '1398556800,': 1,\n",
       "             '\"04': 7,\n",
       "             '27,': 7,\n",
       "             '\"AAZ084UMH8VZ2\",': 1,\n",
       "             '\"D.': 4,\n",
       "             'L.': 2,\n",
       "             'Brown': 1,\n",
       "             '\\\\\"A': 1,\n",
       "             'Knower': 1,\n",
       "             'Good': 5,\n",
       "             'Things\\\\\"\",': 1,\n",
       "             '\"This': 18,\n",
       "             'adaptor': 2,\n",
       "             'real': 3,\n",
       "             'easy': 17,\n",
       "             'setup': 1,\n",
       "             'right': 9,\n",
       "             'box.': 1,\n",
       "             'all,': 1,\n",
       "             'worth': 4,\n",
       "             'purchase.': 1,\n",
       "             'recommend': 10,\n",
       "             'much': 11,\n",
       "             'viewing': 3,\n",
       "             'your': 12,\n",
       "             'videos': 1,\n",
       "             'HDTV.': 1,\n",
       "             'disagree': 1,\n",
       "             'reviews': 2,\n",
       "             'adaptor,': 1,\n",
       "             'found': 3,\n",
       "             'fairly': 4,\n",
       "             'adequate': 1,\n",
       "             'how': 8,\n",
       "             'TV.': 10,\n",
       "             'too': 16,\n",
       "             'short,': 1,\n",
       "             'able': 6,\n",
       "             'place': 2,\n",
       "             'below': 1,\n",
       "             'connection': 2,\n",
       "             'stand,': 2,\n",
       "             'fall': 3,\n",
       "             'anything': 2,\n",
       "             'else,': 1,\n",
       "             'fine.': 1,\n",
       "             'Use': 2,\n",
       "             'judgement,': 1,\n",
       "             'busy': 1,\n",
       "             'watching': 1,\n",
       "             'movies': 1,\n",
       "             ':)\",': 1,\n",
       "             '\"A': 3,\n",
       "             'Perfdect': 1,\n",
       "             'HD+': 2,\n",
       "             'hook': 2,\n",
       "             'up\",': 1,\n",
       "             '1399161600,': 1,\n",
       "             '\"05': 9,\n",
       "             '4,': 2,\n",
       "             '\"AEZ3CR6BKIROJ\",': 1,\n",
       "             '\"Mark': 1,\n",
       "             'Dietter\",': 1,\n",
       "             'easily': 4,\n",
       "             'connects': 1,\n",
       "             '7&#34;': 1,\n",
       "             'HDTV': 1,\n",
       "             'HDMI': 6,\n",
       "             'cable.': 2,\n",
       "             'good': 19,\n",
       "             'traveling': 1,\n",
       "             'because': 16,\n",
       "             'makes': 1,\n",
       "             'any': 12,\n",
       "             'hotel': 1,\n",
       "             'potential': 1,\n",
       "             'smart': 1,\n",
       "             'accessible': 1,\n",
       "             'port.': 1,\n",
       "             'sharing': 1,\n",
       "             'photos': 1,\n",
       "             'FB': 1,\n",
       "             'screen.': 3,\n",
       "             'A': 3,\n",
       "             'pricey,': 1,\n",
       "             'accessory': 1,\n",
       "             'have.': 1,\n",
       "             'Be': 2,\n",
       "             'note': 1,\n",
       "             'ONLY': 1,\n",
       "             'series.': 1,\n",
       "             ...})"
      ]
     },
     "execution_count": 75,
     "metadata": {},
     "output_type": "execute_result"
    }
   ],
   "source": [
    "data_file_rdd = sc.textFile(file_path, 2)\n",
    "\n",
    "wcount_rdd = data_file_rdd \\\n",
    "    .flatMap(lambda x: x.split())\n",
    "\n",
    "wcount_rdd.countByValue()"
   ]
  },
  {
   "cell_type": "markdown",
   "metadata": {},
   "source": [
    "<a name=\"4\"></a>\n",
    "<div style=\"display:table; width:100%; padding-top:10px; padding-bottom:10px; border-bottom:1px solid lightgrey\">\n",
    "    <div style=\"display:table-row\">\n",
    "        <div style=\"display:table-cell; width:80%; font-size:14pt; font-weight:bold\">4. References</div>\n",
    "    \t<div style=\"display:table-cell; width:20%; text-align:center; background-color:whitesmoke; border:1px solid lightgrey\"><a href=\"#0\">To content</a></div>\n",
    "    </div>\n",
    "</div>"
   ]
  },
  {
   "cell_type": "markdown",
   "metadata": {},
   "source": [
    "<a href=\"http://spark.apache.org/docs/latest/api/python/pyspark.html#module-pyspark\">pyspark package</a><br>\n",
    "<a href=\"http://spark.apache.org/docs/latest/programming-guide.html\">Spark Programming Guide</a>"
   ]
  },
  {
   "cell_type": "code",
   "execution_count": null,
   "metadata": {},
   "outputs": [],
   "source": []
  }
 ],
 "metadata": {
  "kernelspec": {
   "display_name": "Python 3",
   "language": "python",
   "name": "python3"
  },
  "language_info": {
   "codemirror_mode": {
    "name": "ipython",
    "version": 3
   },
   "file_extension": ".py",
   "mimetype": "text/x-python",
   "name": "python",
   "nbconvert_exporter": "python",
   "pygments_lexer": "ipython3",
   "version": "3.7.7"
  },
  "widgets": {
   "state": {},
   "version": "1.1.2"
  }
 },
 "nbformat": 4,
 "nbformat_minor": 1
}
